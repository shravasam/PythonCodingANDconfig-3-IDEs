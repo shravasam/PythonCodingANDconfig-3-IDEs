{
  "nbformat": 4,
  "nbformat_minor": 0,
  "metadata": {
    "colab": {
      "name": "inputFiles.ipynb",
      "provenance": [],
      "collapsed_sections": [],
      "include_colab_link": true
    },
    "kernelspec": {
      "name": "python3",
      "display_name": "Python 3"
    },
    "language_info": {
      "name": "python"
    }
  },
  "cells": [
    {
      "cell_type": "markdown",
      "metadata": {
        "id": "view-in-github",
        "colab_type": "text"
      },
      "source": [
        "<a href=\"https://colab.research.google.com/github/shravasam/PythonCodingANDconfig-3-IDEs/blob/master/inputFiles.ipynb\" target=\"_parent\"><img src=\"https://colab.research.google.com/assets/colab-badge.svg\" alt=\"Open In Colab\"/></a>"
      ]
    },
    {
      "cell_type": "markdown",
      "metadata": {
        "id": "t5QvN2Kr-MqP"
      },
      "source": [
        "Section 30.2: Reading a file line-by-line"
      ]
    },
    {
      "cell_type": "code",
      "metadata": {
        "id": "vI0Lymu4eJwV"
      },
      "source": [
        "with open()\n",
        "\n",
        "try:\n",
        "with open(\"fname\", \"r\") as fout:\n",
        "# Work with your open file\n",
        "except FileExistsError:\n"
      ],
      "execution_count": null,
      "outputs": []
    },
    {
      "cell_type": "markdown",
      "metadata": {
        "id": "HOaWnRWeC-SG"
      },
      "source": [
        "Section 30.3: Iterate files (recursively)"
      ]
    }
  ]
}