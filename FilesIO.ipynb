{
  "nbformat": 4,
  "nbformat_minor": 0,
  "metadata": {
    "colab": {
      "name": "Copy of inputFiles.ipynb",
      "provenance": [],
      "collapsed_sections": [],
      "include_colab_link": true
    },
    "kernelspec": {
      "name": "python3",
      "display_name": "Python 3"
    },
    "language_info": {
      "name": "python"
    }
  },
  "cells": [
    {
      "cell_type": "markdown",
      "metadata": {
        "id": "view-in-github",
        "colab_type": "text"
      },
      "source": [
        "<a href=\"https://colab.research.google.com/github/shravasam/PythonCodingANDconfig-3-IDEs/blob/master/FilesIO.ipynb\" target=\"_parent\"><img src=\"https://colab.research.google.com/assets/colab-badge.svg\" alt=\"Open In Colab\"/></a>"
      ]
    },
    {
      "cell_type": "markdown",
      "metadata": {
        "id": "t5QvN2Kr-MqP"
      },
      "source": [
        "Section 30.2: Reading a file line-by-line"
      ]
    },
    {
      "cell_type": "code",
      "metadata": {
        "id": "vI0Lymu4eJwV"
      },
      "source": [
        "with open()\n",
        "\n",
        "try:\n",
        "with open(\"fname\", \"r\") as fout:\n",
        "# Work with your open file\n",
        "except FileExistsError:\n"
      ],
      "execution_count": null,
      "outputs": []
    },
    {
      "cell_type": "markdown",
      "metadata": {
        "id": "HOaWnRWeC-SG"
      },
      "source": [
        "Section 30.3: Iterate files (recursively)"
      ]
    },
    {
      "cell_type": "code",
      "metadata": {
        "colab": {
          "base_uri": "https://localhost:8080/",
          "height": 219
        },
        "id": "cRqygtJjEIFF",
        "outputId": "36cd76d0-8a21-4986-8680-10661a5b4380"
      },
      "source": [
        "#To iterate all files, including in sub directories, use os.walk:\n",
        "import os\n",
        "for root, folders, files in os.walk(root_dir):\n",
        " for filename in files:\n",
        "  print (root, filename)"
      ],
      "execution_count": null,
      "outputs": [
        {
          "output_type": "error",
          "ename": "NameError",
          "evalue": "ignored",
          "traceback": [
            "\u001b[0;31m---------------------------------------------------------------------------\u001b[0m",
            "\u001b[0;31mNameError\u001b[0m                                 Traceback (most recent call last)",
            "\u001b[0;32m<ipython-input-3-67ca213c99bb>\u001b[0m in \u001b[0;36m<module>\u001b[0;34m()\u001b[0m\n\u001b[1;32m      1\u001b[0m \u001b[0;32mimport\u001b[0m \u001b[0mos\u001b[0m\u001b[0;34m\u001b[0m\u001b[0;34m\u001b[0m\u001b[0m\n\u001b[0;32m----> 2\u001b[0;31m \u001b[0;32mfor\u001b[0m \u001b[0mroot\u001b[0m\u001b[0;34m,\u001b[0m \u001b[0mfolders\u001b[0m\u001b[0;34m,\u001b[0m \u001b[0mfiles\u001b[0m \u001b[0;32min\u001b[0m \u001b[0mos\u001b[0m\u001b[0;34m.\u001b[0m\u001b[0mwalk\u001b[0m\u001b[0;34m(\u001b[0m\u001b[0mroot_dir\u001b[0m\u001b[0;34m)\u001b[0m\u001b[0;34m:\u001b[0m\u001b[0;34m\u001b[0m\u001b[0;34m\u001b[0m\u001b[0m\n\u001b[0m\u001b[1;32m      3\u001b[0m  \u001b[0;32mfor\u001b[0m \u001b[0mfilename\u001b[0m \u001b[0;32min\u001b[0m \u001b[0mfiles\u001b[0m\u001b[0;34m:\u001b[0m\u001b[0;34m\u001b[0m\u001b[0;34m\u001b[0m\u001b[0m\n\u001b[1;32m      4\u001b[0m   \u001b[0mprint\u001b[0m \u001b[0;34m(\u001b[0m\u001b[0mroot\u001b[0m\u001b[0;34m,\u001b[0m \u001b[0mfilename\u001b[0m\u001b[0;34m)\u001b[0m\u001b[0;34m\u001b[0m\u001b[0;34m\u001b[0m\u001b[0m\n",
            "\u001b[0;31mNameError\u001b[0m: name 'root_dir' is not defined"
          ]
        }
      ]
    },
    {
      "cell_type": "code",
      "metadata": {
        "id": "1b1lmX9_FEzw"
      },
      "source": [
        "#If you also wish to get information about the file, you may use the more efficient method os.scandir like so:\n",
        "for entry in os.scandir(path):\n",
        "if not entry.name.startswith('.') and entry.is_file():\n",
        "print(entry.name"
      ],
      "execution_count": null,
      "outputs": []
    },
    {
      "cell_type": "markdown",
      "metadata": {
        "id": "kRv0rolVGzKf"
      },
      "source": [
        "Section 30.4: Getting the full contents of a file"
      ]
    },
    {
      "cell_type": "code",
      "metadata": {
        "colab": {
          "base_uri": "https://localhost:8080/",
          "height": 218
        },
        "id": "8STMXmFIGz6g",
        "outputId": "db56b3a2-d7f3-4756-8adb-a2ab9f8ca417"
      },
      "source": [
        "with open('myfile.txt') as in_file:\n",
        " content = in_file.read()\n",
        " print(content)\n",
        "#or, to handle closing the file manually, you can forgo with and simply call close yourself:"
      ],
      "execution_count": 3,
      "outputs": [
        {
          "output_type": "error",
          "ename": "FileNotFoundError",
          "evalue": "ignored",
          "traceback": [
            "\u001b[0;31m---------------------------------------------------------------------------\u001b[0m",
            "\u001b[0;31mFileNotFoundError\u001b[0m                         Traceback (most recent call last)",
            "\u001b[0;32m<ipython-input-3-678ac6357a6c>\u001b[0m in \u001b[0;36m<module>\u001b[0;34m()\u001b[0m\n\u001b[0;32m----> 1\u001b[0;31m \u001b[0;32mwith\u001b[0m \u001b[0mopen\u001b[0m\u001b[0;34m(\u001b[0m\u001b[0;34m'myfile.txt'\u001b[0m\u001b[0;34m)\u001b[0m \u001b[0;32mas\u001b[0m \u001b[0min_file\u001b[0m\u001b[0;34m:\u001b[0m\u001b[0;34m\u001b[0m\u001b[0;34m\u001b[0m\u001b[0m\n\u001b[0m\u001b[1;32m      2\u001b[0m  \u001b[0mcontent\u001b[0m \u001b[0;34m=\u001b[0m \u001b[0min_file\u001b[0m\u001b[0;34m.\u001b[0m\u001b[0mread\u001b[0m\u001b[0;34m(\u001b[0m\u001b[0;34m)\u001b[0m\u001b[0;34m\u001b[0m\u001b[0;34m\u001b[0m\u001b[0m\n\u001b[1;32m      3\u001b[0m  \u001b[0mprint\u001b[0m\u001b[0;34m(\u001b[0m\u001b[0mcontent\u001b[0m\u001b[0;34m)\u001b[0m\u001b[0;34m\u001b[0m\u001b[0;34m\u001b[0m\u001b[0m\n\u001b[1;32m      4\u001b[0m \u001b[0;31m#or, to handle closing the file manually, you can forgo with and simply call close yourself:\u001b[0m\u001b[0;34m\u001b[0m\u001b[0;34m\u001b[0m\u001b[0;34m\u001b[0m\u001b[0m\n",
            "\u001b[0;31mFileNotFoundError\u001b[0m: [Errno 2] No such file or directory: 'myfile.txt'"
          ]
        }
      ]
    },
    {
      "cell_type": "code",
      "metadata": {
        "id": "Vq2cA-U9HlIO"
      },
      "source": [
        "in_file = open('myfile.txt', 'r')\n",
        "content = in_file.read()\n",
        "print(content)\n",
        "in_file.close()\n"
      ],
      "execution_count": null,
      "outputs": []
    },
    {
      "cell_type": "code",
      "metadata": {
        "id": "2ueoELJjH1aE"
      },
      "source": [
        "#without using a with statement\n",
        "in_file = open('myfile.txt', 'r')\n",
        "raise Exception(\"oops\")\n",
        "in_file.close() # This will never be called"
      ],
      "execution_count": null,
      "outputs": []
    },
    {
      "cell_type": "markdown",
      "metadata": {
        "id": "3uG4j4ouIE_8"
      },
      "source": [
        "Section 30.5: Writing to a file"
      ]
    },
    {
      "cell_type": "code",
      "metadata": {
        "id": "Uu6fAuVqIF2q"
      },
      "source": [
        "#Do not use os.linesep as a line terminator when writing files opened in text mode (the default); use \\n instead.\n",
        "with open('myfile.txt', 'w') as f:\n",
        " f.write(\"Line 1 \\n\")\n",
        " f.write(\"Line 2 \\n\")\n",
        " f.write(\"Line 3 \\n\")\n",
        " f.write(\"Line 4 \\n\") \n",
        " print"
      ],
      "execution_count": null,
      "outputs": []
    },
    {
      "cell_type": "code",
      "metadata": {
        "id": "xggvzqbTLu5a"
      },
      "source": [
        "#If you want to specify an encoding, you simply add the encoding parameter to the open function:\n",
        "with open('my_file.txt', 'w', encoding='utf-8') as f:\n",
        " f.write('utf-8 text')"
      ],
      "execution_count": 2,
      "outputs": []
    },
    {
      "cell_type": "code",
      "metadata": {
        "colab": {
          "base_uri": "https://localhost:8080/",
          "height": 131
        },
        "id": "ZLxwvoocNYQj",
        "outputId": "50279dbf-9f1e-47a0-8515-b0d92cb0e409"
      },
      "source": [
        "#It is also possible to use the print statement to write to a file\n",
        "with open('fred.txt', 'w') as outfile:\n",
        " s = \"I'm Not Dead Yet!\"\n",
        " print(s) # writes to stdout\n",
        "  print(s, file = outfile) # writes to outfile\n",
        "  myfile = None\n",
        "  print(s, file = myfile) # writes to stdout\n",
        "  print(s, file = None)\n",
        "# writes to stdout"
      ],
      "execution_count": 5,
      "outputs": [
        {
          "output_type": "error",
          "ename": "IndentationError",
          "evalue": "ignored",
          "traceback": [
            "\u001b[0;36m  File \u001b[0;32m\"<ipython-input-5-ab864d58114f>\"\u001b[0;36m, line \u001b[0;32m5\u001b[0m\n\u001b[0;31m    print(s, file = outfile) # writes to outfile\u001b[0m\n\u001b[0m    ^\u001b[0m\n\u001b[0;31mIndentationError\u001b[0m\u001b[0;31m:\u001b[0m unexpected indent\n"
          ]
        }
      ]
    },
    {
      "cell_type": "markdown",
      "metadata": {
        "id": "hIlQzHyNN2TW"
      },
      "source": [
        "Section 30.6: Check whether a file or path exists"
      ]
    }
  ]
}