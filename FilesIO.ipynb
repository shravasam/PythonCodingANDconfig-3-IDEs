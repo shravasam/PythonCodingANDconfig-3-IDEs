{
  "nbformat": 4,
  "nbformat_minor": 0,
  "metadata": {
    "colab": {
      "name": "FilesIO.ipynb",
      "provenance": [],
      "collapsed_sections": [],
      "include_colab_link": true
    },
    "kernelspec": {
      "name": "python3",
      "display_name": "Python 3"
    },
    "language_info": {
      "name": "python"
    }
  },
  "cells": [
    {
      "cell_type": "markdown",
      "metadata": {
        "id": "view-in-github",
        "colab_type": "text"
      },
      "source": [
        "<a href=\"https://colab.research.google.com/github/shravasam/PythonCodingANDconfig-3-IDEs/blob/master/FilesIO.ipynb\" target=\"_parent\"><img src=\"https://colab.research.google.com/assets/colab-badge.svg\" alt=\"Open In Colab\"/></a>"
      ]
    },
    {
      "cell_type": "markdown",
      "metadata": {
        "id": "t5QvN2Kr-MqP"
      },
      "source": [
        "Section 30.2: Reading a file line-by-line"
      ]
    },
    {
      "cell_type": "code",
      "metadata": {
        "id": "vI0Lymu4eJwV"
      },
      "source": [
        "with open()\n",
        "\n",
        "try:\n",
        "with open(\"fname\", \"r\") as fout:\n",
        "# Work with your open file\n",
        "except FileExistsError:\n"
      ],
      "execution_count": null,
      "outputs": []
    },
    {
      "cell_type": "markdown",
      "metadata": {
        "id": "HOaWnRWeC-SG"
      },
      "source": [
        "Section 30.3: Iterate files (recursively)"
      ]
    },
    {
      "cell_type": "code",
      "metadata": {
        "id": "cRqygtJjEIFF"
      },
      "source": [
        "#To iterate all files, including in sub directories, use os.walk:\n",
        "import os\n",
        "for root, folders, files in os.walk(root_dir):\n",
        " for filename in files:\n",
        "  print (root, filename)"
      ],
      "execution_count": null,
      "outputs": []
    },
    {
      "cell_type": "code",
      "metadata": {
        "id": "1b1lmX9_FEzw"
      },
      "source": [
        "#If you also wish to get information about the file, you may use the more efficient method os.scandir like so:\n",
        "for entry in os.scandir(path):\n",
        "if not entry.name.startswith('.') and entry.is_file():\n",
        "print(entry.name"
      ],
      "execution_count": null,
      "outputs": []
    },
    {
      "cell_type": "markdown",
      "metadata": {
        "id": "kRv0rolVGzKf"
      },
      "source": [
        "Section 30.4: Getting the full contents of a file"
      ]
    },
    {
      "cell_type": "code",
      "metadata": {
        "id": "8STMXmFIGz6g"
      },
      "source": [
        "with open('myfile.txt') as in_file:\n",
        " content = in_file.read()\n",
        " print(content)\n",
        "#or, to handle closing the file manually, you can forgo with and simply call close yourself:"
      ],
      "execution_count": null,
      "outputs": []
    },
    {
      "cell_type": "code",
      "metadata": {
        "id": "Vq2cA-U9HlIO"
      },
      "source": [
        "in_file = open('myfile.txt', 'r')\n",
        "content = in_file.read()\n",
        "print(content)\n",
        "in_file.close()\n"
      ],
      "execution_count": null,
      "outputs": []
    },
    {
      "cell_type": "code",
      "metadata": {
        "id": "2ueoELJjH1aE"
      },
      "source": [
        "#without using a with statement\n",
        "in_file = open('myfile.txt', 'r')\n",
        "raise Exception(\"oops\")\n",
        "in_file.close() # This will never be called"
      ],
      "execution_count": null,
      "outputs": []
    },
    {
      "cell_type": "markdown",
      "metadata": {
        "id": "3uG4j4ouIE_8"
      },
      "source": [
        "Section 30.5: Writing to a file"
      ]
    },
    {
      "cell_type": "code",
      "metadata": {
        "id": "Uu6fAuVqIF2q"
      },
      "source": [
        "#Do not use os.linesep as a line terminator when writing files opened in text mode (the default); use \\n instead.\n",
        "with open('myfile.txt', 'w') as f:\n",
        " f.write(\"Line 1 \\n\")\n",
        " f.write(\"Line 2 \\n\")\n",
        " f.write(\"Line 3 \\n\")\n",
        " f.write(\"Line 4 \\n\") \n",
        " print"
      ],
      "execution_count": null,
      "outputs": []
    },
    {
      "cell_type": "code",
      "metadata": {
        "id": "xggvzqbTLu5a"
      },
      "source": [
        "#If you want to specify an encoding, you simply add the encoding parameter to the open function:\n",
        "with open('my_file.txt', 'w', encoding='utf-8') as f:\n",
        " f.write('utf-8 text')"
      ],
      "execution_count": 2,
      "outputs": []
    },
    {
      "cell_type": "code",
      "metadata": {
        "id": "ZLxwvoocNYQj"
      },
      "source": [
        "#It is also possible to use the print statement to write to a file\n",
        "with open('fred.txt', 'w') as outfile:\n",
        " s = \"I'm Not Dead Yet!\"\n",
        " print(s) # writes to stdout\n",
        "  print(s, file = outfile) # writes to outfile\n",
        "  myfile = None\n",
        "  print(s, file = myfile) # writes to stdout\n",
        "  print(s, file = None)\n",
        "# writes to stdout"
      ],
      "execution_count": null,
      "outputs": []
    },
    {
      "cell_type": "markdown",
      "metadata": {
        "id": "hIlQzHyNN2TW"
      },
      "source": [
        "Section 30.6: Check whether a file or path exists"
      ]
    },
    {
      "cell_type": "code",
      "metadata": {
        "id": "3pBi0x3mOgQb"
      },
      "source": [
        "import errno\n",
        "try:\n",
        "with open(path) as f:\n",
        "# File exists\n",
        "except IOError as e:\n",
        "# Raise the exception if it is not ENOENT (No such file or directory)\n",
        "if e.errno != errno.ENOENT:\n",
        "raise\n",
        "# No such file or directory"
      ],
      "execution_count": null,
      "outputs": []
    },
    {
      "cell_type": "code",
      "metadata": {
        "id": "9FZRCTkfO6KK"
      },
      "source": [
        "#Using the os module:\n",
        "import os\n",
        "os.path.isfile('/path/to/some/file.txt')\n",
        "\n"
      ],
      "execution_count": null,
      "outputs": []
    },
    {
      "cell_type": "code",
      "metadata": {
        "id": "AGmVpZVvPZ0A"
      },
      "source": [
        "#Using pathlib :\n",
        "import pathlib\n",
        "path = pathlib.Path('/path/to/some/file.txt')\n",
        "if path.is_file():"
      ],
      "execution_count": null,
      "outputs": []
    },
    {
      "cell_type": "code",
      "metadata": {
        "id": "u7DBAPqfPfAU"
      },
      "source": [
        " #To check whether a given path exists or not,\n",
        " import os\n",
        "path = \"/home/myFiles/directory1\"\n",
        "if os.path.exists(path):\n",
        "## Do stuff"
      ],
      "execution_count": null,
      "outputs": []
    },
    {
      "cell_type": "markdown",
      "metadata": {
        "id": "cpTnaGWZPmSF"
      },
      "source": [
        "Section 30.7: Random File Access Using mmap. Using the mmap module allows the user to randomly access locations in a file by mapping the file into memory. This\n",
        "is an alternative to using normal file operations."
      ]
    },
    {
      "cell_type": "code",
      "metadata": {
        "id": "FjGTnQ-3P0ae"
      },
      "source": [
        "import mmap\n",
        "with open('filename.ext', 'r') as fd:\n",
        "# 0: map the whole file\n",
        "mm = mmap.mmap(fd.fileno(), 0)\n",
        "# print characters at indices 5 through 10\n",
        "print mm[5:10]\n",
        "# print the line starting from mm's current position\n",
        "print mm.readline()\n",
        "# write a character to the 5th index\n",
        "mm[5] = 'a'\n",
        "# return mm's position to the beginning of the file\n",
        "mm.seek(0)\n",
        "# close the mmap object\n",
        "mm.close()"
      ],
      "execution_count": null,
      "outputs": []
    }
  ]
}