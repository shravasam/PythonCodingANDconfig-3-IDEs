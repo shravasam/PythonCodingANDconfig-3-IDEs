{
  "nbformat": 4,
  "nbformat_minor": 2,
  "metadata": {
    "colab": {
      "name": "strings.ipynb",
      "provenance": [],
      "authorship_tag": "ABX9TyP5ehna7lYFn8QmqWndbW94",
      "include_colab_link": true
    },
    "kernelspec": {
      "name": "python3",
      "display_name": "Python 3"
    }
  },
  "cells": [
    {
      "cell_type": "markdown",
      "source": [
        "<a href=\"https://colab.research.google.com/github/shravasam/PythonCodingANDconfig-3-IDEs/blob/master/strings.ipynb\" target=\"_parent\"><img src=\"https://colab.research.google.com/assets/colab-badge.svg\" alt=\"Open In Colab\"/></a>"
      ],
      "metadata": {
        "id": "view-in-github",
        "colab_type": "text"
      }
    },
    {
      "cell_type": "markdown",
      "source": [
        "#27 String in python "
      ],
      "metadata": {
        "id": "LFXCSKlLtdlk"
      }
    },
    {
      "cell_type": "code",
      "execution_count": null,
      "source": [
        "\n",
        "mystring = 'hello'\n",
        "mystring2 = 'salute'\n",
        "print(mystring)\n",
        "print(mystring)"
      ],
      "outputs": [
        {
          "output_type": "stream",
          "name": "stdout",
          "text": [
            "hello\n",
            "hello\n"
          ]
        }
      ],
      "metadata": {
        "colab": {
          "base_uri": "https://localhost:8080/"
        },
        "id": "AnTpvq-ofzG2",
        "outputId": "be8b75fd-825e-409e-cf49-67a3a08d24d5"
      }
    },
    {
      "cell_type": "markdown",
      "source": [
        "#Assign String to a Variable"
      ],
      "metadata": {
        "id": "khGYaPsuhOBv"
      }
    },
    {
      "cell_type": "code",
      "execution_count": null,
      "source": [
        "a = \"Hello\"\n",
        "print(a)"
      ],
      "outputs": [
        {
          "output_type": "stream",
          "name": "stdout",
          "text": [
            "Hello\n"
          ]
        }
      ],
      "metadata": {
        "colab": {
          "base_uri": "https://localhost:8080/"
        },
        "id": "b0KfsbBmhSvK",
        "outputId": "9436d08c-9f79-4d65-81a5-3492942106ea"
      }
    },
    {
      "cell_type": "markdown",
      "source": [
        "#Multiline Strings"
      ],
      "metadata": {
        "id": "nDhMkBR6hWAA"
      }
    },
    {
      "cell_type": "code",
      "execution_count": null,
      "source": [
        "#You can assign a multiline string to a variable by using three quotes:\n",
        "a = \"\"\"Lorem ipsum dolor sit amet,\n",
        "consectetur adipiscing elit,\n",
        "sed do eiusmod tempor incididunt\n",
        "ut labore et dolore magna aliqua.\"\"\"\n",
        "print(a) "
      ],
      "outputs": [],
      "metadata": {
        "id": "i4-AlFx4h41y"
      }
    },
    {
      "cell_type": "code",
      "execution_count": null,
      "source": [
        "a = '''Lorem ipsum dolor sit amet,\n",
        "consectetur adipiscing elit,\n",
        "sed do eiusmod tempor incididunt\n",
        "ut labore et dolore magna aliqua.'''\n",
        "print(a)"
      ],
      "outputs": [],
      "metadata": {
        "id": "5IcTlWAjiFyQ"
      }
    },
    {
      "cell_type": "markdown",
      "source": [
        "#Strings are Arrays"
      ],
      "metadata": {
        "id": "FhppKkQ0ieAE"
      }
    },
    {
      "cell_type": "code",
      "execution_count": null,
      "source": [
        "a = \"Hello, World!\"\n",
        "print(a[1])"
      ],
      "outputs": [
        {
          "output_type": "stream",
          "name": "stdout",
          "text": [
            "e\n"
          ]
        }
      ],
      "metadata": {
        "colab": {
          "base_uri": "https://localhost:8080/"
        },
        "id": "6V0I5f5cifGx",
        "outputId": "995a9cd8-5e7a-4b9e-8b2e-88299e539758"
      }
    },
    {
      "cell_type": "markdown",
      "source": [
        "#Looping Through a String"
      ],
      "metadata": {
        "id": "LYDJDQK_in8Z"
      }
    },
    {
      "cell_type": "code",
      "execution_count": null,
      "source": [
        "for x in \"banana\":\n",
        "  print(x)"
      ],
      "outputs": [
        {
          "output_type": "stream",
          "name": "stdout",
          "text": [
            "b\n",
            "a\n",
            "n\n",
            "a\n",
            "n\n",
            "a\n"
          ]
        }
      ],
      "metadata": {
        "colab": {
          "base_uri": "https://localhost:8080/"
        },
        "id": "C0iUem1lipFf",
        "outputId": "efa54d98-494c-4ff6-c179-89e0571c6fc9"
      }
    },
    {
      "cell_type": "markdown",
      "source": [
        "#String Length"
      ],
      "metadata": {
        "id": "S66sMoJni9YI"
      }
    },
    {
      "cell_type": "code",
      "execution_count": null,
      "source": [
        "a = \"Hello, World!\"\n",
        "print(len(a))"
      ],
      "outputs": [
        {
          "output_type": "stream",
          "name": "stdout",
          "text": [
            "13\n"
          ]
        }
      ],
      "metadata": {
        "colab": {
          "base_uri": "https://localhost:8080/"
        },
        "id": "sSFSaFq-i-Z7",
        "outputId": "09e571ca-4954-487e-83ba-b12e17952c9d"
      }
    },
    {
      "cell_type": "markdown",
      "source": [
        "#Check String"
      ],
      "metadata": {
        "id": "H43l7XQEj1YB"
      }
    },
    {
      "cell_type": "code",
      "execution_count": null,
      "source": [
        "txt = \"The best things in life are free!\"\n",
        "print(\"free\" in txt)"
      ],
      "outputs": [],
      "metadata": {
        "id": "tlxmo3fxj2dg"
      }
    },
    {
      "cell_type": "code",
      "execution_count": null,
      "source": [
        "txt = \"The best things in life are free!\"\n",
        "if \"free\" in txt:\n",
        "  print(\"Yes, 'free' is present.\")"
      ],
      "outputs": [
        {
          "output_type": "stream",
          "name": "stdout",
          "text": [
            "Yes, 'free' is present.\n"
          ]
        }
      ],
      "metadata": {
        "colab": {
          "base_uri": "https://localhost:8080/"
        },
        "id": "qUCP71Z4j4r3",
        "outputId": "9df997cf-d61f-4963-dcf4-ccc057a97059"
      }
    },
    {
      "cell_type": "markdown",
      "source": [
        "#Check if NOT"
      ],
      "metadata": {
        "id": "83JCQVVBlBia"
      }
    },
    {
      "cell_type": "code",
      "execution_count": null,
      "source": [
        "txt = \"The best things in life are free!\"\n",
        "print(\"expensive\" not in txt)"
      ],
      "outputs": [
        {
          "output_type": "stream",
          "name": "stdout",
          "text": [
            "True\n"
          ]
        }
      ],
      "metadata": {
        "colab": {
          "base_uri": "https://localhost:8080/"
        },
        "id": "6ntqa8VxlDAF",
        "outputId": "b8b430f9-9eb8-493b-aa46-71ca4955acc7"
      }
    },
    {
      "cell_type": "code",
      "execution_count": null,
      "source": [
        "txt = \"The best things in life are free!\"\n",
        "if \"expensive\" not in txt:\n",
        "  print(\"Yes, 'expensive' is NOT present.\")"
      ],
      "outputs": [
        {
          "output_type": "stream",
          "name": "stdout",
          "text": [
            "Yes, 'expensive' is NOT present.\n"
          ]
        }
      ],
      "metadata": {
        "colab": {
          "base_uri": "https://localhost:8080/"
        },
        "id": "Mfcy1nsplK2o",
        "outputId": "927c8eab-7e4f-4f8b-da10-9a37359a3b26"
      }
    },
    {
      "cell_type": "markdown",
      "source": [
        "#Slicing Strings"
      ],
      "metadata": {
        "id": "hkIUBnQvlUJW"
      }
    },
    {
      "cell_type": "code",
      "execution_count": null,
      "source": [
        "#Get the characters from position 2 to position 5 (not included):\n",
        "b = \"Hello, World!\"\n",
        "print(b[2:5])"
      ],
      "outputs": [
        {
          "output_type": "stream",
          "name": "stdout",
          "text": [
            "llo\n"
          ]
        }
      ],
      "metadata": {
        "colab": {
          "base_uri": "https://localhost:8080/"
        },
        "id": "GlZ1_WvblZBE",
        "outputId": "cd0527ee-a0cd-4ae0-d7d4-1911ec6a4b91"
      }
    },
    {
      "cell_type": "markdown",
      "source": [
        "#Slice From the Start"
      ],
      "metadata": {
        "id": "5vgGiFWtmvrh"
      }
    },
    {
      "cell_type": "code",
      "execution_count": null,
      "source": [
        "#Get the characters from the start to position 5 (not included):\n",
        "b = \"Hello, World!\"\n",
        "print(b[:5])"
      ],
      "outputs": [
        {
          "output_type": "stream",
          "name": "stdout",
          "text": [
            "Hello\n"
          ]
        }
      ],
      "metadata": {
        "colab": {
          "base_uri": "https://localhost:8080/"
        },
        "id": "BcnQuI1Pmx47",
        "outputId": "37e48369-60df-46b9-aff9-0cf9ce824e0b"
      }
    },
    {
      "cell_type": "markdown",
      "source": [],
      "metadata": {
        "id": "ME-Ee4KDnC1L"
      }
    },
    {
      "cell_type": "markdown",
      "source": [
        "#Slice To the End"
      ],
      "metadata": {
        "id": "EupeB06_nC7Y"
      }
    },
    {
      "cell_type": "code",
      "execution_count": null,
      "source": [
        "#Get the characters from position 2, and all the way to the end:\n",
        "b = \"Hello, World!\"\n",
        "print(b[2:])"
      ],
      "outputs": [
        {
          "output_type": "stream",
          "name": "stdout",
          "text": [
            "llo, World!\n"
          ]
        }
      ],
      "metadata": {
        "colab": {
          "base_uri": "https://localhost:8080/"
        },
        "id": "Al-krM7enF8D",
        "outputId": "68f30a26-0739-473b-ec49-e9cc78a6d898"
      }
    },
    {
      "cell_type": "markdown",
      "source": [
        "#Negative Indexing"
      ],
      "metadata": {
        "id": "WHGQyIDBnV30"
      }
    },
    {
      "cell_type": "code",
      "execution_count": null,
      "source": [
        "#Use negative indexes to start the slice from the end of the string:\n",
        "b = \"Hello, World!\"\n",
        "print(b[-5:-2])"
      ],
      "outputs": [
        {
          "output_type": "stream",
          "name": "stdout",
          "text": [
            "orl\n"
          ]
        }
      ],
      "metadata": {
        "colab": {
          "base_uri": "https://localhost:8080/"
        },
        "id": "2icwfBdfnyb0",
        "outputId": "40facce2-4e45-4d7c-9332-35d673748cf6"
      }
    },
    {
      "cell_type": "markdown",
      "source": [
        "#Modify Strings"
      ],
      "metadata": {
        "id": "_UYZYsaropPh"
      }
    },
    {
      "cell_type": "code",
      "execution_count": null,
      "source": [
        "#Upper Case\n",
        "a = \"Hello, World!\"\n",
        "print(a.upper())"
      ],
      "outputs": [
        {
          "output_type": "stream",
          "name": "stdout",
          "text": [
            "HELLO, WORLD!\n"
          ]
        }
      ],
      "metadata": {
        "colab": {
          "base_uri": "https://localhost:8080/"
        },
        "id": "v7nNGt_Joq5f",
        "outputId": "360af5fc-4552-4fba-8382-04847613dfb1"
      }
    },
    {
      "cell_type": "code",
      "execution_count": null,
      "source": [
        "#Lower Case\n",
        "a = \"Hello, World!\"\n",
        "print(a.lower())"
      ],
      "outputs": [
        {
          "output_type": "stream",
          "name": "stdout",
          "text": [
            "hello, world!\n"
          ]
        }
      ],
      "metadata": {
        "colab": {
          "base_uri": "https://localhost:8080/"
        },
        "id": "Med6knBYqven",
        "outputId": "63f895d6-8144-4c35-c5c6-f0702d307e0b"
      }
    },
    {
      "cell_type": "code",
      "execution_count": null,
      "source": [
        "#Remove Whitespace\n",
        "a = \" Hello, World! \"\n",
        "print(a.strip()) # returns \"Hello,             World!\""
      ],
      "outputs": [
        {
          "output_type": "stream",
          "name": "stdout",
          "text": [
            "Hello, World!\n"
          ]
        }
      ],
      "metadata": {
        "colab": {
          "base_uri": "https://localhost:8080/"
        },
        "id": "k773Zavtq5go",
        "outputId": "3cbe1fcb-aee6-4595-e690-dd5a14490415"
      }
    },
    {
      "cell_type": "code",
      "execution_count": null,
      "source": [
        "#Replace String\n",
        "a = \"Hello, World!\"\n",
        "print(a.replace(\"H\", \"J\"))"
      ],
      "outputs": [
        {
          "output_type": "stream",
          "name": "stdout",
          "text": [
            "Jello, World!\n"
          ]
        }
      ],
      "metadata": {
        "colab": {
          "base_uri": "https://localhost:8080/"
        },
        "id": "i4SBcPPgrFYa",
        "outputId": "6fdc98dc-47d9-4048-c1b8-3c3b213a3605"
      }
    },
    {
      "cell_type": "code",
      "execution_count": null,
      "source": [
        "#Split String\n",
        "a = \"Hello, World!\"\n",
        "print(a.split(\",\")) # returns ['Hello', ' World!'] "
      ],
      "outputs": [
        {
          "output_type": "stream",
          "name": "stdout",
          "text": [
            "['Hello', ' World!']\n"
          ]
        }
      ],
      "metadata": {
        "colab": {
          "base_uri": "https://localhost:8080/"
        },
        "id": "Zbn6DYQUrvzQ",
        "outputId": "7a6e99ec-d553-4c69-8b3b-7724aa04b6b7"
      }
    },
    {
      "cell_type": "markdown",
      "source": [
        "#String Concatenation"
      ],
      "metadata": {
        "id": "6ZoTWAYBr7DJ"
      }
    },
    {
      "cell_type": "code",
      "execution_count": null,
      "source": [
        "#Merge variable a with variable b into variable c:\n",
        "a = \"Hello\"\n",
        "b = \"World\"\n",
        "c = a + b\n",
        "print(c)\n"
      ],
      "outputs": [],
      "metadata": {
        "id": "GUSUWU4Wr79g"
      }
    },
    {
      "cell_type": "code",
      "execution_count": null,
      "source": [
        "#To add a space between them, add a \" \":\n",
        "a = \"Hello\"\n",
        "b = \"World\"\n",
        "c = a + \"    \" + b\n",
        "print(c)"
      ],
      "outputs": [
        {
          "output_type": "stream",
          "name": "stdout",
          "text": [
            "Hello    World\n"
          ]
        }
      ],
      "metadata": {
        "colab": {
          "base_uri": "https://localhost:8080/"
        },
        "id": "Kutod9TlsJCA",
        "outputId": "25a68d0b-981b-4771-c642-1c9647f654a2"
      }
    },
    {
      "cell_type": "markdown",
      "source": [
        "#Format - Strings"
      ],
      "metadata": {
        "id": "yTjwg8wGsWIh"
      }
    },
    {
      "cell_type": "code",
      "execution_count": null,
      "source": [
        "age = 36\n",
        "txt = \"My name is John, I am \" + age\n",
        "print(txt)"
      ],
      "outputs": [
        {
          "output_type": "error",
          "ename": "TypeError",
          "evalue": "ignored",
          "traceback": [
            "\u001b[0;31m---------------------------------------------------------------------------\u001b[0m",
            "\u001b[0;31mTypeError\u001b[0m                                 Traceback (most recent call last)",
            "\u001b[0;32m<ipython-input-25-4d1b227cff41>\u001b[0m in \u001b[0;36m<module>\u001b[0;34m()\u001b[0m\n\u001b[1;32m      1\u001b[0m \u001b[0mage\u001b[0m \u001b[0;34m=\u001b[0m \u001b[0;36m36\u001b[0m\u001b[0;34m\u001b[0m\u001b[0;34m\u001b[0m\u001b[0m\n\u001b[0;32m----> 2\u001b[0;31m \u001b[0mtxt\u001b[0m \u001b[0;34m=\u001b[0m \u001b[0;34m\"My name is John, I am \"\u001b[0m \u001b[0;34m+\u001b[0m \u001b[0mage\u001b[0m\u001b[0;34m\u001b[0m\u001b[0;34m\u001b[0m\u001b[0m\n\u001b[0m\u001b[1;32m      3\u001b[0m \u001b[0mprint\u001b[0m\u001b[0;34m(\u001b[0m\u001b[0mtxt\u001b[0m\u001b[0;34m)\u001b[0m\u001b[0;34m\u001b[0m\u001b[0;34m\u001b[0m\u001b[0m\n",
            "\u001b[0;31mTypeError\u001b[0m: can only concatenate str (not \"int\") to str"
          ]
        }
      ],
      "metadata": {
        "colab": {
          "base_uri": "https://localhost:8080/",
          "height": 201
        },
        "id": "PlpE3taeswco",
        "outputId": "4efc4f4d-336f-4518-8ef4-27fdc40b3130"
      }
    },
    {
      "cell_type": "code",
      "execution_count": null,
      "source": [
        "age = 36\n",
        "txt = \"My name is John, and I am {}\"\n",
        "print(txt.format(age))"
      ],
      "outputs": [
        {
          "output_type": "stream",
          "name": "stdout",
          "text": [
            "My name is John, and I am 36\n"
          ]
        }
      ],
      "metadata": {
        "colab": {
          "base_uri": "https://localhost:8080/"
        },
        "id": "ftvbu1FmsXD1",
        "outputId": "e86fcded-c279-4e33-a529-da8a94ca1658"
      }
    },
    {
      "cell_type": "code",
      "execution_count": null,
      "source": [
        "quantity = 3\n",
        "itemno = 567\n",
        "price = 49.95\n",
        "myorder = \"I want {} pieces of item {} for {} dollars.\"\n",
        "print(myorder.format(quantity, itemno, price))"
      ],
      "outputs": [
        {
          "output_type": "stream",
          "name": "stdout",
          "text": [
            "I want 3 pieces of item 567 for 49.95 dollars.\n"
          ]
        }
      ],
      "metadata": {
        "colab": {
          "base_uri": "https://localhost:8080/"
        },
        "id": "Hxhb4ca5tBvn",
        "outputId": "ebfde8c4-4d89-4217-b237-0638de6c268f"
      }
    },
    {
      "cell_type": "code",
      "execution_count": null,
      "source": [
        "quantity = 3\n",
        "itemno = 567\n",
        "price = 49.95\n",
        "myorder = \"I want to pay {2} dollars for {0} pieces of item {1}.\"\n",
        "print(myorder.format(quantity, itemno, price))"
      ],
      "outputs": [
        {
          "output_type": "stream",
          "name": "stdout",
          "text": [
            "I want to pay 49.95 dollars for 3 pieces of item 567.\n"
          ]
        }
      ],
      "metadata": {
        "colab": {
          "base_uri": "https://localhost:8080/"
        },
        "id": "6v5WS1uDtPN1",
        "outputId": "5b250f11-356b-4754-fecf-ba7e0675efbf"
      }
    },
    {
      "cell_type": "markdown",
      "source": [
        "#Escape Characters"
      ],
      "metadata": {
        "id": "SLpcNNVUtVJC"
      }
    },
    {
      "cell_type": "code",
      "execution_count": null,
      "source": [
        "txt = \"We are the so-called \"Vikings\" from the north.\""
      ],
      "outputs": [],
      "metadata": {
        "id": "S9fJLZiTtWgp"
      }
    },
    {
      "cell_type": "code",
      "execution_count": 36,
      "source": [
        "txt = \"We are the so-called \\\"Vikings\\\" from the north.\"\n",
        "print(txt)"
      ],
      "outputs": [
        {
          "output_type": "stream",
          "name": "stdout",
          "text": [
            "We are the so-called \"Vikings\" from the north.\n"
          ]
        }
      ],
      "metadata": {
        "id": "8iopcnGEuPlZ",
        "colab": {
          "base_uri": "https://localhost:8080/"
        },
        "outputId": "6562a82d-eb83-4a38-fef8-23b4a5edc3b7"
      }
    },
    {
      "cell_type": "code",
      "execution_count": 37,
      "source": [
        "txt = 'It\\'s alright.'\n",
        "print(txt) "
      ],
      "outputs": [
        {
          "output_type": "stream",
          "name": "stdout",
          "text": [
            "It's alright.\n"
          ]
        }
      ],
      "metadata": {
        "colab": {
          "base_uri": "https://localhost:8080/"
        },
        "id": "cucBSRPCwL28",
        "outputId": "4398e932-67d3-476c-e755-bfab41caea26"
      }
    },
    {
      "cell_type": "code",
      "execution_count": 38,
      "source": [
        "txt = \"This will insert one \\\\ (backslash).\"\n",
        "print(txt)"
      ],
      "outputs": [
        {
          "output_type": "stream",
          "name": "stdout",
          "text": [
            "This will insert one \\ (backslash).\n"
          ]
        }
      ],
      "metadata": {
        "colab": {
          "base_uri": "https://localhost:8080/"
        },
        "id": "KLVhGk9GwQou",
        "outputId": "840c89b1-d6dd-4345-b378-e9d1a9c4010f"
      }
    },
    {
      "cell_type": "code",
      "execution_count": 39,
      "source": [
        "txt = \"Hello\\nWorld!\"\n",
        "print(txt) "
      ],
      "outputs": [
        {
          "output_type": "stream",
          "name": "stdout",
          "text": [
            "Hello\n",
            "World!\n"
          ]
        }
      ],
      "metadata": {
        "colab": {
          "base_uri": "https://localhost:8080/"
        },
        "id": "hhEvIdCswWG4",
        "outputId": "345a0882-e38d-47cb-a2ce-f8a38792e753"
      }
    },
    {
      "cell_type": "code",
      "execution_count": 40,
      "source": [
        "txt = \"Hello\\rWorld!\"\n",
        "print(txt) \n"
      ],
      "outputs": [
        {
          "output_type": "stream",
          "name": "stdout",
          "text": [
            "Hello\rWorld!\n"
          ]
        }
      ],
      "metadata": {
        "colab": {
          "base_uri": "https://localhost:8080/"
        },
        "id": "k9GqFS5vwcjV",
        "outputId": "2c139068-a5a5-48ac-811d-61a555b1bedb"
      }
    },
    {
      "cell_type": "code",
      "execution_count": 43,
      "source": [
        "#This example erases one character (backspace):\n",
        "txt = \"Hello \\bWorld!\"\n",
        "print(txt) \n"
      ],
      "outputs": [
        {
          "output_type": "stream",
          "name": "stdout",
          "text": [
            "Hello \bWorld!\n"
          ]
        }
      ],
      "metadata": {
        "colab": {
          "base_uri": "https://localhost:8080/"
        },
        "id": "I1tg_ZW5whsU",
        "outputId": "cb153d19-5efe-47f4-bbf7-a8836b77f95e"
      }
    },
    {
      "cell_type": "code",
      "execution_count": 44,
      "source": [
        "#A backslash followed by three integers will result in a octal value:\n",
        "txt = \"\\110\\145\\154\\154\\157\"\n",
        "print(txt) \n",
        "\n"
      ],
      "outputs": [
        {
          "output_type": "stream",
          "name": "stdout",
          "text": [
            "Hello\n"
          ]
        }
      ],
      "metadata": {
        "colab": {
          "base_uri": "https://localhost:8080/"
        },
        "id": "wGM0GZXewkTM",
        "outputId": "d8807110-e4d1-4dce-c39f-b1e6ef892a40"
      }
    },
    {
      "cell_type": "code",
      "execution_count": 45,
      "source": [
        "#A backslash followed by an 'x' and a hex number represents a hex value:\n",
        "txt = \"\\x48\\x65\\x6c\\x6c\\x6f\"\n",
        "print(txt) "
      ],
      "outputs": [
        {
          "output_type": "stream",
          "name": "stdout",
          "text": [
            "Hello\n"
          ]
        }
      ],
      "metadata": {
        "colab": {
          "base_uri": "https://localhost:8080/"
        },
        "id": "CIzNWYIqxAR9",
        "outputId": "df523b7c-93ce-4eba-bd6d-a2592fd69a73"
      }
    },
    {
      "cell_type": "markdown",
      "source": [
        "#String Methods"
      ],
      "metadata": {
        "id": "r6A8E6OCxKuE"
      }
    },
    {
      "cell_type": "code",
      "execution_count": 47,
      "source": [
        "txt = \"hello, and welcome to my world.\"\n",
        "\n",
        "x = txt.capitalize()\n",
        "\n",
        "print (x)\n"
      ],
      "outputs": [
        {
          "output_type": "stream",
          "name": "stdout",
          "text": [
            "Hello, and welcome to my world.\n"
          ]
        }
      ],
      "metadata": {
        "colab": {
          "base_uri": "https://localhost:8080/"
        },
        "id": "8I3qg74exMEM",
        "outputId": "5209144d-7d83-4f68-b1c3-a6ffc297ffb6"
      }
    },
    {
      "cell_type": "code",
      "execution_count": 51,
      "source": [
        "#Python String casefold() Method\n",
        "txt = \"Hello, And Welcome To My World!\"\n",
        "\n",
        "x = txt.casefold()\n",
        "\n",
        "print(x)"
      ],
      "outputs": [
        {
          "output_type": "stream",
          "name": "stdout",
          "text": [
            "hello, and welcome to my world!\n"
          ]
        }
      ],
      "metadata": {
        "colab": {
          "base_uri": "https://localhost:8080/"
        },
        "id": "VAtWbNvG4OpD",
        "outputId": "24d72367-10e2-4c7d-d6dc-c8554647b75f"
      }
    },
    {
      "cell_type": "code",
      "execution_count": null,
      "source": [
        "#Python String center() Method\n",
        "txt = \"banana\"\n",
        "\n",
        "x = txt.center(20)\n",
        "\n",
        "print(x) \n",
        "#string.center(length, character) \n"
      ],
      "outputs": [],
      "metadata": {
        "id": "8zYHMspY4bi7"
      }
    },
    {
      "cell_type": "code",
      "execution_count": null,
      "source": [],
      "outputs": [],
      "metadata": {
        "id": "rFLg9QCE4bpH"
      }
    }
  ]
}