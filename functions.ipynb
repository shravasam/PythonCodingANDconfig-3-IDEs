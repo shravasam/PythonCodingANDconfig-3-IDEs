{
  "nbformat": 4,
  "nbformat_minor": 0,
  "metadata": {
    "colab": {
      "name": "functions.ipynb",
      "provenance": [],
      "authorship_tag": "ABX9TyOG/4PpClPRIAt4PhIMStAL",
      "include_colab_link": true
    },
    "kernelspec": {
      "name": "python3",
      "display_name": "Python 3"
    }
  },
  "cells": [
    {
      "cell_type": "markdown",
      "metadata": {
        "id": "view-in-github",
        "colab_type": "text"
      },
      "source": [
        "<a href=\"https://colab.research.google.com/github/shravasam/PythonCodingANDconfig-3-IDEs/blob/master/functions.ipynb\" target=\"_parent\"><img src=\"https://colab.research.google.com/assets/colab-badge.svg\" alt=\"Open In Colab\"/></a>"
      ]
    },
    {
      "cell_type": "markdown",
      "metadata": {
        "id": "XaBmptDxzCEd"
      },
      "source": [
        "#6.call funciotns simple"
      ]
    },
    {
      "cell_type": "code",
      "metadata": {
        "colab": {
          "base_uri": "https://localhost:8080/"
        },
        "id": "f9n909xszIHK",
        "outputId": "434b202f-4174-4cfa-d217-65971ee4a498"
      },
      "source": [
        "def main():\n",
        "    print(\"hello world\")\n",
        "def first():\n",
        "    print(\"france\")\n",
        "def two():\n",
        "    print(\"india\")\n",
        "def three():\n",
        "    print(\"A330\")\n",
        "    \n",
        "main()\n",
        "first()\n",
        "two()\n",
        "three()"
      ],
      "execution_count": 1,
      "outputs": [
        {
          "output_type": "stream",
          "text": [
            "hello world\n",
            "france\n",
            "india\n",
            "A330\n"
          ],
          "name": "stdout"
        }
      ]
    },
    {
      "cell_type": "markdown",
      "metadata": {
        "id": "Vc49lRh1zNjO"
      },
      "source": [
        ""
      ]
    },
    {
      "cell_type": "markdown",
      "metadata": {
        "id": "MlV5BJfHzNng"
      },
      "source": [
        "#7.Passing variables  & return values using fuctions return values"
      ]
    },
    {
      "cell_type": "code",
      "metadata": {
        "colab": {
          "base_uri": "https://localhost:8080/"
        },
        "id": "nHA8HEvWzUjm",
        "outputId": "0799ff13-0451-49e6-f609-3e896b97441d"
      },
      "source": [
        "def add(num1,num2):\n",
        "    return num1 + num2\n",
        "def sub(num1,num2):\n",
        "    return num1-num2\n",
        "def mul(num1,num2):\n",
        "    return  num1*num2\n",
        "def div(num1,num2):\n",
        "    return num1/num2\n",
        "def module(num1,num2):\n",
        "    return num1%num2\n",
        "def mainAdd():\n",
        "    myresult = add(1,1)\n",
        "    print(myresult)\n",
        "def mainSub():\n",
        "    mySubResult = sub(1,1)\n",
        "    print(mySubResult)\n",
        "def mainMul():\n",
        "    myMulResult = mul(1,2)\n",
        "    print(myMulResult)\n",
        "def mainDiv():\n",
        "    myDivResult = div(1,2)\n",
        "    print (myDivResult)\n",
        "def mainModul():\n",
        "    myModResult = module(5,3)\n",
        "    print(myModResult)\n",
        "mainAdd()\n",
        "mainSub()\n",
        "mainMul()\n",
        "mainDiv()\n",
        "mainModul()"
      ],
      "execution_count": 2,
      "outputs": [
        {
          "output_type": "stream",
          "text": [
            "2\n",
            "0\n",
            "2\n",
            "0.5\n",
            "2\n"
          ],
          "name": "stdout"
        }
      ]
    },
    {
      "cell_type": "markdown",
      "metadata": {
        "id": "2i8mVAfcz22F"
      },
      "source": [
        ""
      ]
    },
    {
      "cell_type": "markdown",
      "metadata": {
        "id": "B6xfBzygz286"
      },
      "source": [
        "#8.Calling single method, returning all variable values\n",
        "#return values"
      ]
    },
    {
      "cell_type": "code",
      "metadata": {
        "colab": {
          "base_uri": "https://localhost:8080/"
        },
        "id": "IhhbU2NJz5fC",
        "outputId": "34e6338a-b98f-4d54-9047-d7f7f677048f"
      },
      "source": [
        "def add(num1,num2):\n",
        "    return num1 + num2\n",
        "def sub(num1,num2):\n",
        "    return num1-num2\n",
        "def mul(num1,num2):\n",
        "    return  num1*num2\n",
        "def div(num1,num2):\n",
        "    return num1/num2\n",
        "def module(num1,num2):\n",
        "    return num1%num2\n",
        "def mainAdd():\n",
        "    num1 = int(input(\"enter 1 number\"))\n",
        "    num2 = int(input(\"enter 2 number\"))\n",
        "    print(add(num1,num2))\n",
        "    print(sub(num1,num2))\n",
        "    print(mul(num1,num2))\n",
        "    print(div(num1,num2))\n",
        "    print(module(num1,num2))\n",
        "mainAdd()"
      ],
      "execution_count": 3,
      "outputs": [
        {
          "output_type": "stream",
          "text": [
            "enter 1 number2\n",
            "enter 2 number4\n",
            "6\n",
            "-2\n",
            "8\n",
            "0.5\n",
            "2\n"
          ],
          "name": "stdout"
        }
      ]
    },
    {
      "cell_type": "markdown",
      "metadata": {
        "id": "gpxEyYzs0AvZ"
      },
      "source": [
        "#Problem statement: i wanted inherit result into monthstotal method for that i need classes"
      ]
    },
    {
      "cell_type": "code",
      "metadata": {
        "id": "KmU2wm4C0Ljq"
      },
      "source": [
        "def div(num1,num2):\n",
        "    return num1/num2\n",
        "\n",
        "def months(num1):\n",
        "    return num1\n",
        "def mainAdd():\n",
        "    num1 = int(input(\"enter 1 number\"))\n",
        "    num2 = int(input(\"enter 2 number\"))\n",
        "    result = div(num1, num2)\n",
        "    print(result)\n",
        "def monthsTotal():\n",
        "    num1 = int(input(\"months\"))\n",
        "    total = result*num1\n",
        "    print(total)\n",
        "mainAdd()\n",
        "monthsTotal()"
      ],
      "execution_count": null,
      "outputs": []
    },
    {
      "cell_type": "markdown",
      "metadata": {
        "id": "HgmPImeC0VYS"
      },
      "source": [
        "#9. using operators if match found return values and print."
      ]
    },
    {
      "cell_type": "code",
      "metadata": {
        "colab": {
          "base_uri": "https://localhost:8080/"
        },
        "id": "e0sIe-or0qqV",
        "outputId": "dfcfb835-b5df-4c6c-e306-82e14d368d25"
      },
      "source": [
        "\n",
        "#Enter values\n",
        "#return values\n",
        "def add(num1,num2):\n",
        "    return num1 + num2\n",
        "def sub(num1,num2):\n",
        "    return num1-num2\n",
        "def mul(num1,num2):\n",
        "    return  num1*num2\n",
        "def div(num1,num2):\n",
        "    return num1/num2\n",
        "def module(num1,num2):\n",
        "    return num1%num2\n",
        "def main():\n",
        "    num1 = int(input(\"enter 1 number\"))\n",
        "    num2 = int(input(\"enter 2 number\"))\n",
        "\n",
        "    operation = int(input(\"what do you want 1.addition, 2.subtraction, 3.multiplication, 4.divisin, 5.mod\"))\n",
        "    if(operation == 1):\n",
        "        print(add(num1,num2))\n",
        "    elif(operation == 2):\n",
        "        print(sub(num1,num2))\n",
        "    elif(operation == 3):\n",
        "        print(mul(num1,num2))\n",
        "    elif(operation == 4):\n",
        "        print(div(num1,num2))\n",
        "    elif(operation ==5):\n",
        "        print(module(num1,num2))\n",
        "    else:\n",
        "        print(\"i dont undersstand\")\n",
        "main()\n"
      ],
      "execution_count": 5,
      "outputs": [
        {
          "output_type": "stream",
          "text": [
            "enter 1 number4\n",
            "enter 2 number4\n",
            "what do you want 1.addition, 2.subtraction, 3.multiplication, 4.divisin, 5.mod3\n",
            "16\n"
          ],
          "name": "stdout"
        }
      ]
    },
    {
      "cell_type": "markdown",
      "metadata": {
        "id": "IVNJJW9v0-QN"
      },
      "source": [
        "#10. using try except block, Boolean, return “integer” values"
      ]
    },
    {
      "cell_type": "code",
      "metadata": {
        "colab": {
          "base_uri": "https://localhost:8080/"
        },
        "id": "ncKLMmxO1BFt",
        "outputId": "76f1ceb6-0f78-4d79-8d51-1243b94d56e7"
      },
      "source": [
        "#return values\n",
        "def add(num1,num2):\n",
        "    return num1 + num2\n",
        "def sub(num1,num2):\n",
        "    return num1-num2\n",
        "def mul(num1,num2):\n",
        "    return  num1*num2\n",
        "def div(num1,num2):\n",
        "    return num1/num2\n",
        "def module(num1,num2):\n",
        "    return num1%num2\n",
        "def main():\n",
        "    validInput = False\n",
        "    while not validInput:\n",
        "        try:\n",
        "            num1 = int(input(\"enter 1 number\"))\n",
        "            num2 = int(input(\"enter 2 number\"))\n",
        "            #operation = input(\"what do you want(add,substration,multiplication,division,mod)\")\n",
        "            operation = int(input(\"what do you want 1.addition, 2.subtraction, 3.multiplication, 4.divisin, 5.mod\"))\n",
        "            validInput = True\n",
        "        except:\n",
        "            print (\"invalid input\")\n",
        "\n",
        "    if(operation == 1):\n",
        "        print(add(num1,num2))\n",
        "    elif(operation == 2):\n",
        "        print(sub(num1,num2))\n",
        "    elif(operation == 3):\n",
        "        print(mul(num1,num2))\n",
        "    elif(operation == 4):\n",
        "        print(div(num1,num2))\n",
        "    elif(operation ==5):\n",
        "        print(module(num1,num2))\n",
        "    else:\n",
        "        print(\"i dont undersstand\")\n",
        "main()"
      ],
      "execution_count": 6,
      "outputs": [
        {
          "output_type": "stream",
          "text": [
            "enter 1 number4\n",
            "enter 2 number3\n",
            "what do you want 1.addition, 2.subtraction, 3.multiplication, 4.divisin, 5.mod4\n",
            "1.3333333333333333\n"
          ],
          "name": "stdout"
        }
      ]
    },
    {
      "cell_type": "markdown",
      "metadata": {
        "id": "oAvwXcqf2BaG"
      },
      "source": [
        "#11. using try except block, Boolean, return “integer” values, repeating application"
      ]
    },
    {
      "cell_type": "code",
      "metadata": {
        "colab": {
          "base_uri": "https://localhost:8080/"
        },
        "id": "0_CnAaaS2EmK",
        "outputId": "aa645856-f2a0-49a8-bd8f-08c5ed643d43"
      },
      "source": [
        "#return values\n",
        "def add(num1,num2):\n",
        "    return num1 + num2\n",
        "def sub(num1,num2):\n",
        "    return num1-num2\n",
        "def mul(num1,num2):\n",
        "    return  num1*num2\n",
        "def div(num1,num2):\n",
        "    return num1/num2\n",
        "def module(num1,num2):\n",
        "    return num1%num2\n",
        "def addAgain(num1,num2):\n",
        "    return num1+num2\n",
        "def main():\n",
        "    user_continue = True\n",
        "    while user_continue:\n",
        "        validInput = False\n",
        "        while not validInput:\n",
        "            try:\n",
        "                num1 = int(input(\"enter 1 number\"))\n",
        "                num2 = int(input(\"enter 2 number\"))\n",
        "                #operation = input(\"what do you want(add,substration,multiplication,division,mod)\")\n",
        "                operation = int(input(\"what do you want 1.addition, 2.subtraction, 3.multiplication, 4.divisin, 5.mod , 6.extra\"))\n",
        "                validInput = True\n",
        "            except:\n",
        "                    print (\"invalid input\")\n",
        "        if(operation == 1):\n",
        "            print(add(num1,num2))\n",
        "        elif(operation == 2):\n",
        "            print(sub(num1,num2))\n",
        "        elif(operation == 3):\n",
        "            print(mul(num1,num2))\n",
        "        elif(operation == 4):\n",
        "            print(div(num1,num2))\n",
        "        elif(operation ==5):\n",
        "            print(module(num1,num2))\n",
        "        elif(operation == 6):\n",
        "            print(addAgain(num1,num2))\n",
        "        else:\n",
        "            print(\"i dont undersstand\")\n",
        "        user_y = str(input('would you continue any other calculations1.\"Y\" to yes' ))\n",
        "        if(user_y ==True):\n",
        "            continue\n",
        "main()"
      ],
      "execution_count": null,
      "outputs": [
        {
          "output_type": "stream",
          "text": [
            "enter 1 number4\n",
            "enter 2 number3\n",
            "what do you want 1.addition, 2.subtraction, 3.multiplication, 4.divisin, 5.mod , 6.extra3\n",
            "12\n"
          ],
          "name": "stdout"
        }
      ]
    }
  ]
}