{
  "nbformat": 4,
  "nbformat_minor": 0,
  "metadata": {
    "colab": {
      "name": "functions.ipynb",
      "provenance": [],
      "authorship_tag": "ABX9TyOEUAvsbE4P8hmtXHiPYjPI",
      "include_colab_link": true
    },
    "kernelspec": {
      "name": "python3",
      "display_name": "Python 3"
    }
  },
  "cells": [
    {
      "cell_type": "markdown",
      "metadata": {
        "id": "view-in-github",
        "colab_type": "text"
      },
      "source": [
        "<a href=\"https://colab.research.google.com/github/shravasam/PythonCodingANDconfig-3-IDEs/blob/master/functions.ipynb\" target=\"_parent\"><img src=\"https://colab.research.google.com/assets/colab-badge.svg\" alt=\"Open In Colab\"/></a>"
      ]
    },
    {
      "cell_type": "markdown",
      "metadata": {
        "id": "XaBmptDxzCEd"
      },
      "source": [
        "#6.call funciotns simple"
      ]
    },
    {
      "cell_type": "code",
      "metadata": {
        "colab": {
          "base_uri": "https://localhost:8080/"
        },
        "id": "f9n909xszIHK",
        "outputId": "434b202f-4174-4cfa-d217-65971ee4a498"
      },
      "source": [
        "def main():\n",
        "    print(\"hello world\")\n",
        "def first():\n",
        "    print(\"france\")\n",
        "def two():\n",
        "    print(\"india\")\n",
        "def three():\n",
        "    print(\"A330\")\n",
        "    \n",
        "main()\n",
        "first()\n",
        "two()\n",
        "three()"
      ],
      "execution_count": 1,
      "outputs": [
        {
          "output_type": "stream",
          "text": [
            "hello world\n",
            "france\n",
            "india\n",
            "A330\n"
          ],
          "name": "stdout"
        }
      ]
    },
    {
      "cell_type": "markdown",
      "metadata": {
        "id": "Vc49lRh1zNjO"
      },
      "source": [
        ""
      ]
    },
    {
      "cell_type": "markdown",
      "metadata": {
        "id": "MlV5BJfHzNng"
      },
      "source": [
        "#7.Passing variables  & return values using fuctions return values"
      ]
    },
    {
      "cell_type": "code",
      "metadata": {
        "colab": {
          "base_uri": "https://localhost:8080/"
        },
        "id": "nHA8HEvWzUjm",
        "outputId": "0799ff13-0451-49e6-f609-3e896b97441d"
      },
      "source": [
        "def add(num1,num2):\n",
        "    return num1 + num2\n",
        "def sub(num1,num2):\n",
        "    return num1-num2\n",
        "def mul(num1,num2):\n",
        "    return  num1*num2\n",
        "def div(num1,num2):\n",
        "    return num1/num2\n",
        "def module(num1,num2):\n",
        "    return num1%num2\n",
        "def mainAdd():\n",
        "    myresult = add(1,1)\n",
        "    print(myresult)\n",
        "def mainSub():\n",
        "    mySubResult = sub(1,1)\n",
        "    print(mySubResult)\n",
        "def mainMul():\n",
        "    myMulResult = mul(1,2)\n",
        "    print(myMulResult)\n",
        "def mainDiv():\n",
        "    myDivResult = div(1,2)\n",
        "    print (myDivResult)\n",
        "def mainModul():\n",
        "    myModResult = module(5,3)\n",
        "    print(myModResult)\n",
        "mainAdd()\n",
        "mainSub()\n",
        "mainMul()\n",
        "mainDiv()\n",
        "mainModul()"
      ],
      "execution_count": 2,
      "outputs": [
        {
          "output_type": "stream",
          "text": [
            "2\n",
            "0\n",
            "2\n",
            "0.5\n",
            "2\n"
          ],
          "name": "stdout"
        }
      ]
    }
  ]
}