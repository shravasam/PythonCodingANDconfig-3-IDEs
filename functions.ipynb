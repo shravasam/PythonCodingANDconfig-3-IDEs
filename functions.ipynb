{
  "nbformat": 4,
  "nbformat_minor": 0,
  "metadata": {
    "colab": {
      "name": "functions.ipynb",
      "provenance": [],
      "authorship_tag": "ABX9TyPWcB5OcWSjkz2rkjDw62m1",
      "include_colab_link": true
    },
    "kernelspec": {
      "name": "python3",
      "display_name": "Python 3"
    }
  },
  "cells": [
    {
      "cell_type": "markdown",
      "metadata": {
        "id": "view-in-github",
        "colab_type": "text"
      },
      "source": [
        "<a href=\"https://colab.research.google.com/github/shravasam/PythonCodingANDconfig-3-IDEs/blob/master/functions.ipynb\" target=\"_parent\"><img src=\"https://colab.research.google.com/assets/colab-badge.svg\" alt=\"Open In Colab\"/></a>"
      ]
    },
    {
      "cell_type": "markdown",
      "metadata": {
        "id": "XaBmptDxzCEd"
      },
      "source": [
        "#6.call funciotns simple"
      ]
    },
    {
      "cell_type": "code",
      "metadata": {
        "colab": {
          "base_uri": "https://localhost:8080/"
        },
        "id": "f9n909xszIHK",
        "outputId": "434b202f-4174-4cfa-d217-65971ee4a498"
      },
      "source": [
        "def main():\n",
        "    print(\"hello world\")\n",
        "def first():\n",
        "    print(\"france\")\n",
        "def two():\n",
        "    print(\"india\")\n",
        "def three():\n",
        "    print(\"A330\")\n",
        "    \n",
        "main()\n",
        "first()\n",
        "two()\n",
        "three()"
      ],
      "execution_count": 1,
      "outputs": [
        {
          "output_type": "stream",
          "text": [
            "hello world\n",
            "france\n",
            "india\n",
            "A330\n"
          ],
          "name": "stdout"
        }
      ]
    },
    {
      "cell_type": "markdown",
      "metadata": {
        "id": "Vc49lRh1zNjO"
      },
      "source": [
        ""
      ]
    },
    {
      "cell_type": "markdown",
      "metadata": {
        "id": "MlV5BJfHzNng"
      },
      "source": [
        "#7.Passing variables  & return values using fuctions return values"
      ]
    },
    {
      "cell_type": "code",
      "metadata": {
        "colab": {
          "base_uri": "https://localhost:8080/"
        },
        "id": "nHA8HEvWzUjm",
        "outputId": "0799ff13-0451-49e6-f609-3e896b97441d"
      },
      "source": [
        "def add(num1,num2):\n",
        "    return num1 + num2\n",
        "def sub(num1,num2):\n",
        "    return num1-num2\n",
        "def mul(num1,num2):\n",
        "    return  num1*num2\n",
        "def div(num1,num2):\n",
        "    return num1/num2\n",
        "def module(num1,num2):\n",
        "    return num1%num2\n",
        "def mainAdd():\n",
        "    myresult = add(1,1)\n",
        "    print(myresult)\n",
        "def mainSub():\n",
        "    mySubResult = sub(1,1)\n",
        "    print(mySubResult)\n",
        "def mainMul():\n",
        "    myMulResult = mul(1,2)\n",
        "    print(myMulResult)\n",
        "def mainDiv():\n",
        "    myDivResult = div(1,2)\n",
        "    print (myDivResult)\n",
        "def mainModul():\n",
        "    myModResult = module(5,3)\n",
        "    print(myModResult)\n",
        "mainAdd()\n",
        "mainSub()\n",
        "mainMul()\n",
        "mainDiv()\n",
        "mainModul()"
      ],
      "execution_count": 2,
      "outputs": [
        {
          "output_type": "stream",
          "text": [
            "2\n",
            "0\n",
            "2\n",
            "0.5\n",
            "2\n"
          ],
          "name": "stdout"
        }
      ]
    },
    {
      "cell_type": "markdown",
      "metadata": {
        "id": "2i8mVAfcz22F"
      },
      "source": [
        ""
      ]
    },
    {
      "cell_type": "markdown",
      "metadata": {
        "id": "B6xfBzygz286"
      },
      "source": [
        "#8.Calling single method, returning all variable values\n",
        "#return values"
      ]
    },
    {
      "cell_type": "code",
      "metadata": {
        "colab": {
          "base_uri": "https://localhost:8080/"
        },
        "id": "IhhbU2NJz5fC",
        "outputId": "34e6338a-b98f-4d54-9047-d7f7f677048f"
      },
      "source": [
        "def add(num1,num2):\n",
        "    return num1 + num2\n",
        "def sub(num1,num2):\n",
        "    return num1-num2\n",
        "def mul(num1,num2):\n",
        "    return  num1*num2\n",
        "def div(num1,num2):\n",
        "    return num1/num2\n",
        "def module(num1,num2):\n",
        "    return num1%num2\n",
        "def mainAdd():\n",
        "    num1 = int(input(\"enter 1 number\"))\n",
        "    num2 = int(input(\"enter 2 number\"))\n",
        "    print(add(num1,num2))\n",
        "    print(sub(num1,num2))\n",
        "    print(mul(num1,num2))\n",
        "    print(div(num1,num2))\n",
        "    print(module(num1,num2))\n",
        "mainAdd()"
      ],
      "execution_count": 3,
      "outputs": [
        {
          "output_type": "stream",
          "text": [
            "enter 1 number2\n",
            "enter 2 number4\n",
            "6\n",
            "-2\n",
            "8\n",
            "0.5\n",
            "2\n"
          ],
          "name": "stdout"
        }
      ]
    },
    {
      "cell_type": "markdown",
      "metadata": {
        "id": "gpxEyYzs0AvZ"
      },
      "source": [
        "#Problem statement: i wanted inherit result into monthstotal method for that i need classes"
      ]
    },
    {
      "cell_type": "code",
      "metadata": {
        "id": "KmU2wm4C0Ljq"
      },
      "source": [
        "def div(num1,num2):\n",
        "    return num1/num2\n",
        "\n",
        "def months(num1):\n",
        "    return num1\n",
        "def mainAdd():\n",
        "    num1 = int(input(\"enter 1 number\"))\n",
        "    num2 = int(input(\"enter 2 number\"))\n",
        "    result = div(num1, num2)\n",
        "    print(result)\n",
        "def monthsTotal():\n",
        "    num1 = int(input(\"months\"))\n",
        "    total = result*num1\n",
        "    print(total)\n",
        "mainAdd()\n",
        "monthsTotal()"
      ],
      "execution_count": null,
      "outputs": []
    },
    {
      "cell_type": "markdown",
      "metadata": {
        "id": "HgmPImeC0VYS"
      },
      "source": [
        "#9. using operators if match found return values and print."
      ]
    },
    {
      "cell_type": "code",
      "metadata": {
        "colab": {
          "base_uri": "https://localhost:8080/"
        },
        "id": "e0sIe-or0qqV",
        "outputId": "dfcfb835-b5df-4c6c-e306-82e14d368d25"
      },
      "source": [
        "\n",
        "#Enter values\n",
        "#return values\n",
        "def add(num1,num2):\n",
        "    return num1 + num2\n",
        "def sub(num1,num2):\n",
        "    return num1-num2\n",
        "def mul(num1,num2):\n",
        "    return  num1*num2\n",
        "def div(num1,num2):\n",
        "    return num1/num2\n",
        "def module(num1,num2):\n",
        "    return num1%num2\n",
        "def main():\n",
        "    num1 = int(input(\"enter 1 number\"))\n",
        "    num2 = int(input(\"enter 2 number\"))\n",
        "\n",
        "    operation = int(input(\"what do you want 1.addition, 2.subtraction, 3.multiplication, 4.divisin, 5.mod\"))\n",
        "    if(operation == 1):\n",
        "        print(add(num1,num2))\n",
        "    elif(operation == 2):\n",
        "        print(sub(num1,num2))\n",
        "    elif(operation == 3):\n",
        "        print(mul(num1,num2))\n",
        "    elif(operation == 4):\n",
        "        print(div(num1,num2))\n",
        "    elif(operation ==5):\n",
        "        print(module(num1,num2))\n",
        "    else:\n",
        "        print(\"i dont undersstand\")\n",
        "main()\n"
      ],
      "execution_count": 5,
      "outputs": [
        {
          "output_type": "stream",
          "text": [
            "enter 1 number4\n",
            "enter 2 number4\n",
            "what do you want 1.addition, 2.subtraction, 3.multiplication, 4.divisin, 5.mod3\n",
            "16\n"
          ],
          "name": "stdout"
        }
      ]
    },
    {
      "cell_type": "markdown",
      "metadata": {
        "id": "IVNJJW9v0-QN"
      },
      "source": [
        "#10. using try except block, Boolean, return “integer” values"
      ]
    },
    {
      "cell_type": "code",
      "metadata": {
        "colab": {
          "base_uri": "https://localhost:8080/"
        },
        "id": "ncKLMmxO1BFt",
        "outputId": "76f1ceb6-0f78-4d79-8d51-1243b94d56e7"
      },
      "source": [
        "#return values\n",
        "def add(num1,num2):\n",
        "    return num1 + num2\n",
        "def sub(num1,num2):\n",
        "    return num1-num2\n",
        "def mul(num1,num2):\n",
        "    return  num1*num2\n",
        "def div(num1,num2):\n",
        "    return num1/num2\n",
        "def module(num1,num2):\n",
        "    return num1%num2\n",
        "def main():\n",
        "    validInput = False\n",
        "    while not validInput:\n",
        "        try:\n",
        "            num1 = int(input(\"enter 1 number\"))\n",
        "            num2 = int(input(\"enter 2 number\"))\n",
        "            #operation = input(\"what do you want(add,substration,multiplication,division,mod)\")\n",
        "            operation = int(input(\"what do you want 1.addition, 2.subtraction, 3.multiplication, 4.divisin, 5.mod\"))\n",
        "            validInput = True\n",
        "        except:\n",
        "            print (\"invalid input\")\n",
        "\n",
        "    if(operation == 1):\n",
        "        print(add(num1,num2))\n",
        "    elif(operation == 2):\n",
        "        print(sub(num1,num2))\n",
        "    elif(operation == 3):\n",
        "        print(mul(num1,num2))\n",
        "    elif(operation == 4):\n",
        "        print(div(num1,num2))\n",
        "    elif(operation ==5):\n",
        "        print(module(num1,num2))\n",
        "    else:\n",
        "        print(\"i dont undersstand\")\n",
        "main()"
      ],
      "execution_count": 6,
      "outputs": [
        {
          "output_type": "stream",
          "text": [
            "enter 1 number4\n",
            "enter 2 number3\n",
            "what do you want 1.addition, 2.subtraction, 3.multiplication, 4.divisin, 5.mod4\n",
            "1.3333333333333333\n"
          ],
          "name": "stdout"
        }
      ]
    },
    {
      "cell_type": "markdown",
      "metadata": {
        "id": "oAvwXcqf2BaG"
      },
      "source": [
        "#11. using try except block, Boolean, return “integer” values, repeating application"
      ]
    },
    {
      "cell_type": "code",
      "metadata": {
        "id": "QwRSVKwd27WG"
      },
      "source": [
        "#return values\n",
        "def add(num1,num2):\n",
        "    return num1 + num2\n",
        "def sub(num1,num2):\n",
        "    return num1-num2\n",
        "def mul(num1,num2):\n",
        "    return  num1*num2\n",
        "def div(num1,num2):\n",
        "    return num1/num2\n",
        "def module(num1,num2):\n",
        "    return num1%num2\n",
        "def addAgain(num1,num2):\n",
        "    return num1+num2\n",
        "def main():\n",
        "    user_continue = True\n",
        "    while user_continue:\n",
        "        validInput = False\n",
        "        while not validInput:\n",
        "            try:\n",
        "                num1 = int(input(\"enter 1 number\"))\n",
        "                num2 = int(input(\"enter 2 number\"))\n",
        "                #operation = input(\"what do you want(add,substration,multiplication,division,mod)\")\n",
        "                operation = int(input(\"what do you want 1.addition, 2.subtraction, 3.multiplication, 4.divisin, 5.mod , 6.extra\"))\n",
        "                validInput = True\n",
        "            except:\n",
        "                    print (\"invalid input\")\n",
        "        if(operation == 1):\n",
        "            print(add(num1,num2))\n",
        "        elif(operation == 2):\n",
        "            print(sub(num1,num2))\n",
        "        elif(operation == 3):\n",
        "            print(mul(num1,num2))\n",
        "        elif(operation == 4):\n",
        "            print(div(num1,num2))\n",
        "        elif(operation ==5):\n",
        "            print(module(num1,num2))\n",
        "        elif(operation == 6):\n",
        "            print(addAgain(num1,num2))\n",
        "        else:\n",
        "            print(\"i dont undersstand\")\n",
        "        user_y = str(input('would you continue any other calculations1.\"Y\" to yes' ))\n",
        "        if(user_y ==True):\n",
        "            continue\n",
        "main()\n"
      ],
      "execution_count": null,
      "outputs": []
    },
    {
      "cell_type": "markdown",
      "metadata": {
        "id": "Juios7rK22Ip"
      },
      "source": [
        "#12. using boolean operators, one main method return all arithmetic operations and ask to repeat application."
      ]
    },
    {
      "cell_type": "code",
      "metadata": {
        "colab": {
          "base_uri": "https://localhost:8080/"
        },
        "id": "oyTm-oaQ3Qfk",
        "outputId": "eebab13e-3e3b-40fb-e4b1-5cc2e5480bfc"
      },
      "source": [
        "#return values\n",
        "def add(num1,num2):\n",
        "    return num1 + num2\n",
        "def sub(num1,num2):\n",
        "    return num1-num2\n",
        "def mul(num1,num2):\n",
        "    return  num1*num2\n",
        "def div(num1,num2):\n",
        "    return num1/num2\n",
        "def module(num1,num2):\n",
        "    return num1%num2\n",
        "def main():\n",
        "    user_continue = True\n",
        "    while user_continue:\n",
        "        validInput = False\n",
        "        while not validInput:\n",
        "            try:\n",
        "                num1 = int(input(\"enter 1 number\"))\n",
        "                num2 = int(input(\"enter 2 number\"))\n",
        "                #operation = input(\"what do you want(add,substration,multiplication,division,mod)\")\n",
        "                operation = int(input(\"what do you want 1.addition, 2.subtraction, 3.multiplication, 4.divisin, 5.mod\"))\n",
        "                validInput = True\n",
        "            except:\n",
        "                    print (\"invalid input\")\n",
        "        if(operation == 1):\n",
        "            print(add(num1,num2))\n",
        "        elif(operation == 2):\n",
        "            print(sub(num1,num2))\n",
        "        elif(operation == 3):\n",
        "            print(mul(num1,num2))\n",
        "        elif(operation == 4):\n",
        "            print(div(num1,num2))\n",
        "        elif(operation ==5):\n",
        "            print(module(num1,num2))\n",
        "        else:\n",
        "            print(\"i dont undersstand\")\n",
        "        user_y = int(input('Press 1 to continue press any number to exit' ))\n",
        "        if(user_y !=1):\n",
        "            user_continue = False\n",
        "            break\n",
        "        else:\n",
        "             continue\n",
        "main()"
      ],
      "execution_count": 9,
      "outputs": [
        {
          "output_type": "stream",
          "text": [
            "enter 1 number3\n",
            "enter 2 number54\n",
            "what do you want 1.addition, 2.subtraction, 3.multiplication, 4.divisin, 5.mod5\n",
            "3\n",
            "Press 1 to continue press any number to exit4\n"
          ],
          "name": "stdout"
        }
      ]
    },
    {
      "cell_type": "markdown",
      "metadata": {
        "id": "SMDo-Mui4IJY"
      },
      "source": [
        "#21. funcitons, program to multiply USD using 2 functions."
      ]
    },
    {
      "cell_type": "code",
      "metadata": {
        "colab": {
          "base_uri": "https://localhost:8080/"
        },
        "id": "61zgwXAa4J7a",
        "outputId": "0b394972-3d2b-40b0-8cf3-d9cd1a44f3e2"
      },
      "source": [
        "def poulet():\n",
        "    print(\"cost of poulet in usa\")\n",
        "def costofpoulet(usd):\n",
        "    amount = usd*44\n",
        "    print(amount,\"$\")\n",
        "poulet()\n",
        "costofpoulet(67)"
      ],
      "execution_count": 12,
      "outputs": [
        {
          "output_type": "stream",
          "text": [
            "cost of poulet in usa\n",
            "2948 $\n"
          ],
          "name": "stdout"
        }
      ]
    },
    {
      "cell_type": "markdown",
      "metadata": {
        "id": "DSRaV8zH4Twv"
      },
      "source": [
        "#22. return stament"
      ]
    },
    {
      "cell_type": "code",
      "metadata": {
        "colab": {
          "base_uri": "https://localhost:8080/"
        },
        "id": "zPF8OVuj4Wku",
        "outputId": "cf037e16-4507-4361-e2c5-d77f42206f41"
      },
      "source": [
        "def allowed_dating_age(my_age):\n",
        "    girls_age=my_age/2+7\n",
        "    return girls_age\n",
        "buck_limit = allowed_dating_age(27)\n",
        "creepy_limit = allowed_dating_age(27)\n",
        "print(\"buck can date girls\",buck_limit,\"or orders\")\n",
        "print(\"creepy limits \",creepy_limit,\"or orders\")"
      ],
      "execution_count": 11,
      "outputs": [
        {
          "output_type": "stream",
          "text": [
            "buck can date girls 20.5 or orders\n",
            "creepy limits  20.5 or orders\n"
          ],
          "name": "stdout"
        }
      ]
    },
    {
      "cell_type": "markdown",
      "metadata": {
        "id": "lEemJ28f5Jwy"
      },
      "source": [
        "#23. default values for arguments"
      ]
    },
    {
      "cell_type": "code",
      "metadata": {
        "colab": {
          "base_uri": "https://localhost:8080/"
        },
        "id": "Ij3agme55K5L",
        "outputId": "6d425db2-f5ed-40a4-bf64-37b0fd111e61"
      },
      "source": [
        "def get_genders(sex='unknown'):\n",
        "    if sex is 'm':\n",
        "        sex = \"male\"\n",
        "    elif sex is 'f':\n",
        "        sex = \"female\"\n",
        "    print(sex)\n",
        "get_genders('m')\n",
        "get_genders('f')\n",
        "get_genders()"
      ],
      "execution_count": 13,
      "outputs": [
        {
          "output_type": "stream",
          "text": [
            "male\n",
            "female\n",
            "unknown\n"
          ],
          "name": "stdout"
        }
      ]
    },
    {
      "cell_type": "markdown",
      "metadata": {
        "id": "2ktFbWQ46hgz"
      },
      "source": [
        "#24.variable scope"
      ]
    },
    {
      "cell_type": "code",
      "metadata": {
        "colab": {
          "base_uri": "https://localhost:8080/"
        },
        "id": "eCR4wmre6mRj",
        "outputId": "1f58f475-33d4-4106-b88b-dbc4b60d58c7"
      },
      "source": [
        "#CORRECT\n",
        "a=1234\n",
        "def corn():\n",
        "\n",
        "    print(a)\n",
        "def fudge():\n",
        "    print(a)\n",
        "corn()\n",
        "fudge()\n",
        "#INCORRECT\n",
        "\n",
        "def corn():\n",
        "    a = 1234\n",
        "    print(a)\n",
        "def fudge():\n",
        "    print(a)\n",
        "corn()\n",
        "fudge()"
      ],
      "execution_count": 16,
      "outputs": [
        {
          "output_type": "stream",
          "text": [
            "1234\n",
            "1234\n",
            "1234\n",
            "1234\n"
          ],
          "name": "stdout"
        }
      ]
    },
    {
      "cell_type": "markdown",
      "metadata": {
        "id": "MnQHpzZX9IBs"
      },
      "source": [
        "#25. keyboard arugments"
      ]
    },
    {
      "cell_type": "code",
      "metadata": {
        "colab": {
          "base_uri": "https://localhost:8080/"
        },
        "id": "c0Qm8ecL9Nsb",
        "outputId": "4d9d4fca-e8c4-4e8f-fc02-ceab35927ed8"
      },
      "source": [
        "def dump_sentece(name='sravan',action='ate',item='banana'):\n",
        "    print(name,action,item)\n",
        "def mme (name='langlois',age='29',bank='lcl'):\n",
        "    print(name,age,bank)\n",
        "dump_sentece()\n",
        "dump_sentece(\"vasam\",\"farts\",\"gently\")\n",
        "dump_sentece(item='awesome')\n",
        "dump_sentece(item='awesome',action='finish')\n",
        "dump_sentece(item='sss',action='sjksdkd')\n",
        "mme()"
      ],
      "execution_count": 15,
      "outputs": [
        {
          "output_type": "stream",
          "text": [
            "sravan ate banana\n",
            "vasam farts gently\n",
            "sravan ate awesome\n",
            "sravan finish awesome\n",
            "sravan sjksdkd sss\n",
            "langlois 29 lcl\n"
          ],
          "name": "stdout"
        }
      ]
    },
    {
      "cell_type": "markdown",
      "metadata": {
        "id": "s9IJmWzG-HF7"
      },
      "source": [
        "#26.Flexible number of arguments, addition with given first value"
      ]
    },
    {
      "cell_type": "code",
      "metadata": {
        "colab": {
          "base_uri": "https://localhost:8080/"
        },
        "id": "fPS30W3p-HsA",
        "outputId": "af2b519e-9c3f-4a64-dff3-f56d56cd296f"
      },
      "source": [
        "def add_numers(*args):\n",
        "    total=0\n",
        "    for a in args:\n",
        "        total+=a\n",
        "        print(total)\n",
        "add_numers(3,4,333,24,223,34)"
      ],
      "execution_count": 14,
      "outputs": [
        {
          "output_type": "stream",
          "text": [
            "3\n",
            "7\n",
            "340\n",
            "364\n",
            "587\n",
            "621\n"
          ],
          "name": "stdout"
        }
      ]
    }
  ]
}