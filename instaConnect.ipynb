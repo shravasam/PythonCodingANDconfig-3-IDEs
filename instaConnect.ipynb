{
  "nbformat": 4,
  "nbformat_minor": 0,
  "metadata": {
    "colab": {
      "name": "instaConnect.ipynb",
      "provenance": [],
      "collapsed_sections": [],
      "authorship_tag": "ABX9TyNR/pLd/cN50DstlZgspn5O",
      "include_colab_link": true
    },
    "kernelspec": {
      "name": "python3",
      "display_name": "Python 3"
    },
    "language_info": {
      "name": "python"
    }
  },
  "cells": [
    {
      "cell_type": "markdown",
      "metadata": {
        "id": "view-in-github",
        "colab_type": "text"
      },
      "source": [
        "<a href=\"https://colab.research.google.com/github/shravasam/PythonCodingANDconfig-3-IDEs/blob/master/instaConnect.ipynb\" target=\"_parent\"><img src=\"https://colab.research.google.com/assets/colab-badge.svg\" alt=\"Open In Colab\"/></a>"
      ]
    },
    {
      "cell_type": "code",
      "metadata": {
        "colab": {
          "base_uri": "https://localhost:8080/"
        },
        "id": "1b9KwZr94InU",
        "outputId": "ef6a4eab-061f-4e4e-c6bb-bff5c8a9f70c"
      },
      "source": [
        "import requests\n",
        "\n",
        "url = \"https://instagram28.p.rapidapi.com/media_comments\"\n",
        "\n",
        "querystring = {\"short_code\":\"CB_B4z_s-0r\"}\n",
        "\n",
        "headers = {\n",
        "    'x-rapidapi-key': \"0681519093msh68e132181ba751ap1fa947jsn7be7d3cbb389\",\n",
        "    'x-rapidapi-host': \"instagram28.p.rapidapi.com\"\n",
        "    }\n",
        "\n",
        "response = requests.request(\"GET\", url, headers=headers, params=querystring)\n",
        "\n",
        "print(response.text)"
      ],
      "execution_count": null,
      "outputs": [
        {
          "output_type": "stream",
          "text": [
            "{\"data\":{\"shortcode_media\":{\"edge_media_to_parent_comment\":{\"count\":21106,\"page_info\":{\"has_next_page\":true,\"end_cursor\":\"QVFBM01CX2VDaE9LNV9yZl8xY2J2S0luUTdTeTRCNmJqOUoxcERMbklWS1VCdUpYdjlOUUctVTkyTGJxUmJmUHFtbmIzSmtUMmZFaFpZQXlrN0hzN0JCeg==\"},\"edges\":[{\"node\":{\"id\":\"17904271588607592\",\"text\":\"❤️\",\"created_at\":1607895732,\"did_report_as_spam\":false,\"owner\":{\"id\":\"4350424847\",\"is_verified\":false,\"profile_pic_url\":\"https://scontent-iad3-2.cdninstagram.com/v/t51.2885-19/s150x150/127848125_826603108140131_1938213149069667035_n.jpg?tp=1&_nc_ht=scontent-iad3-2.cdninstagram.com&_nc_ohc=js37ASOsmbAAX_7AqJp&edm=AMrZAGUBAAAA&ccb=7-4&oh=bae2384fc061a780d8e5d6b76b4d8e19&oe=60A41095&_nc_sid=9fb510\",\"username\":\"aariciaaaa\"},\"viewer_has_liked\":false,\"edge_liked_by\":{\"count\":0},\"edge_threaded_comments\":{\"count\":0,\"page_info\":{\"has_next_page\":false,\"end_cursor\":null},\"edges\":[]}}},{\"node\":{\"id\":\"17875937561044848\",\"text\":\"😀\",\"created_at\":1607981324,\"did_report_as_spam\":false,\"owner\":{\"id\":\"4350424847\",\"is_verified\":false,\"profile_pic_url\":\"https://scontent-iad3-2.cdninstagram.com/v/t51.2885-19/s150x150/127848125_826603108140131_1938213149069667035_n.jpg?tp=1&_nc_ht=scontent-iad3-2.cdninstagram.com&_nc_ohc=js37ASOsmbAAX_7AqJp&edm=AMrZAGUBAAAA&ccb=7-4&oh=bae2384fc061a780d8e5d6b76b4d8e19&oe=60A41095&_nc_sid=9fb510\",\"username\":\"aariciaaaa\"},\"viewer_has_liked\":false,\"edge_liked_by\":{\"count\":0},\"edge_threaded_comments\":{\"count\":0,\"page_info\":{\"has_next_page\":false,\"end_cursor\":null},\"edges\":[]}}},{\"node\":{\"id\":\"17876022527042788\",\"text\":\"Nice\",\"created_at\":1607981334,\"did_report_as_spam\":false,\"owner\":{\"id\":\"4350424847\",\"is_verified\":false,\"profile_pic_url\":\"https://scontent-iad3-2.cdninstagram.com/v/t51.2885-19/s150x150/127848125_826603108140131_1938213149069667035_n.jpg?tp=1&_nc_ht=scontent-iad3-2.cdninstagram.com&_nc_ohc=js37ASOsmbAAX_7AqJp&edm=AMrZAGUBAAAA&ccb=7-4&oh=bae2384fc061a780d8e5d6b76b4d8e19&oe=60A41095&_nc_sid=9fb510\",\"username\":\"aariciaaaa\"},\"viewer_has_liked\":false,\"edge_liked_by\":{\"count\":0},\"edge_threaded_comments\":{\"count\":0,\"page_info\":{\"has_next_page\":false,\"end_cursor\":null},\"edges\":[]}}},{\"node\":{\"id\":\"18036706870304168\",\"text\":\"Pieknie bajka\",\"created_at\":1607981494,\"did_report_as_spam\":false,\"owner\":{\"id\":\"4350424847\",\"is_verified\":false,\"profile_pic_url\":\"https://scontent-iad3-2.cdninstagram.com/v/t51.2885-19/s150x150/127848125_826603108140131_1938213149069667035_n.jpg?tp=1&_nc_ht=scontent-iad3-2.cdninstagram.com&_nc_ohc=js37ASOsmbAAX_7AqJp&edm=AMrZAGUBAAAA&ccb=7-4&oh=bae2384fc061a780d8e5d6b76b4d8e19&oe=60A41095&_nc_sid=9fb510\",\"username\":\"aariciaaaa\"},\"viewer_has_liked\":false,\"edge_liked_by\":{\"count\":0},\"edge_threaded_comments\":{\"count\":0,\"page_info\":{\"has_next_page\":false,\"end_cursor\":null},\"edges\":[]}}},{\"node\":{\"id\":\"17892260767749731\",\"text\":\"U👏\",\"created_at\":1607981591,\"did_report_as_spam\":false,\"owner\":{\"id\":\"4350424847\",\"is_verified\":false,\"profile_pic_url\":\"https://scontent-iad3-2.cdninstagram.com/v/t51.2885-19/s150x150/127848125_826603108140131_1938213149069667035_n.jpg?tp=1&_nc_ht=scontent-iad3-2.cdninstagram.com&_nc_ohc=js37ASOsmbAAX_7AqJp&edm=AMrZAGUBAAAA&ccb=7-4&oh=bae2384fc061a780d8e5d6b76b4d8e19&oe=60A41095&_nc_sid=9fb510\",\"username\":\"aariciaaaa\"},\"viewer_has_liked\":false,\"edge_liked_by\":{\"count\":1},\"edge_threaded_comments\":{\"count\":0,\"page_info\":{\"has_next_page\":false,\"end_cursor\":null},\"edges\":[]}}},{\"node\":{\"id\":\"17850867065479183\",\"text\":\"Creative\",\"created_at\":1608199375,\"did_report_as_spam\":false,\"owner\":{\"id\":\"27633959398\",\"is_verified\":false,\"profile_pic_url\":\"https://scontent-iad3-2.cdninstagram.com/v/t51.2885-19/s150x150/121497899_701901240706381_4461756396568903217_n.jpg?tp=1&_nc_ht=scontent-iad3-2.cdninstagram.com&_nc_ohc=5tBCj8W7tT4AX8RFzyO&edm=AMrZAGUBAAAA&ccb=7-4&oh=79c0aeb3089e53f001657c04ab9fa3f5&oe=60A747CF&_nc_sid=9fb510\",\"username\":\"krenish3074\"},\"viewer_has_liked\":false,\"edge_liked_by\":{\"count\":1},\"edge_threaded_comments\":{\"count\":0,\"page_info\":{\"has_next_page\":false,\"end_cursor\":null},\"edges\":[]}}},{\"node\":{\"id\":\"17876410247123770\",\"text\":\"👌👌👌👌\",\"created_at\":1610624861,\"did_report_as_spam\":false,\"owner\":{\"id\":\"29321609984\",\"is_verified\":false,\"profile_pic_url\":\"https://scontent-iad3-2.cdninstagram.com/v/t51.2885-19/s150x150/157133634_176058214320708_5017328449292642007_n.jpg?tp=1&_nc_ht=scontent-iad3-2.cdninstagram.com&_nc_ohc=3YTx2NYBYHoAX9r-K3Q&edm=AMrZAGUBAAAA&ccb=7-4&oh=024e43858c583433b500c96ba2ceda60&oe=60A6E83F&_nc_sid=9fb510\",\"username\":\"jalal_mashhad1\"},\"viewer_has_liked\":false,\"edge_liked_by\":{\"count\":0},\"edge_threaded_comments\":{\"count\":0,\"page_info\":{\"has_next_page\":false,\"end_cursor\":null},\"edges\":[]}}},{\"node\":{\"id\":\"17901170776686922\",\"text\":\"❤️\",\"created_at\":1610790633,\"did_report_as_spam\":false,\"owner\":{\"id\":\"44767352505\",\"is_verified\":false,\"profile_pic_url\":\"https://scontent-hbe1-1.cdninstagram.com/v/t51.2885-19/44884218_345707102882519_2446069589734326272_n.jpg?_nc_ht=scontent-hbe1-1.cdninstagram.com&_nc_ohc=FVs3uA5OC6QAX90Z5yN&edm=AJ9x6zYAAAAA&ccb=7-4&oh=9fd4407a246e66bfe25ae024910c7cc2&oe=60A7178F&_nc_sid=cff2a4&ig_cache_key=YW5vbnltb3VzX3Byb2ZpbGVfcGlj.2-ccb7-4\",\"username\":\"a.talati4\"},\"viewer_has_liked\":false,\"edge_liked_by\":{\"count\":0},\"edge_threaded_comments\":{\"count\":0,\"page_info\":{\"has_next_page\":false,\"end_cursor\":null},\"edges\":[]}}},{\"node\":{\"id\":\"17869740956243173\",\"text\":\"❤️❤️❤️\",\"created_at\":1610812883,\"did_report_as_spam\":false,\"owner\":{\"id\":\"12028411760\",\"is_verified\":false,\"profile_pic_url\":\"https://scontent-iad3-2.cdninstagram.com/v/t51.2885-19/s150x150/125242114_687608015225509_2948754886725484654_n.jpg?tp=1&_nc_ht=scontent-iad3-2.cdninstagram.com&_nc_ohc=nwlwCgCWPsIAX_Un-z7&edm=AMrZAGUBAAAA&ccb=7-4&oh=2979e8a95b8ef669bb93374598c7b32f&oe=60A5DD4C&_nc_sid=9fb510\",\"username\":\"alejagabi08\"},\"viewer_has_liked\":false,\"edge_liked_by\":{\"count\":1},\"edge_threaded_comments\":{\"count\":0,\"page_info\":{\"has_next_page\":false,\"end_cursor\":null},\"edges\":[]}}},{\"node\":{\"id\":\"17893541848825904\",\"text\":\"✔\",\"created_at\":1611506413,\"did_report_as_spam\":false,\"owner\":{\"id\":\"282135786\",\"is_verified\":false,\"profile_pic_url\":\"https://scontent-iad3-2.cdninstagram.com/v/t51.2885-19/s150x150/69857795_1660800624055791_6544335647094603776_n.jpg?tp=1&_nc_ht=scontent-iad3-2.cdninstagram.com&_nc_ohc=5rJxqrpuhwgAX_Puxt7&edm=AMrZAGUBAAAA&ccb=7-4&oh=2ac4f7c0b8969707e5009bf2c8975fd6&oe=60A4ED5C&_nc_sid=9fb510\",\"username\":\"alejourbina23\"},\"viewer_has_liked\":false,\"edge_liked_by\":{\"count\":1},\"edge_threaded_comments\":{\"count\":0,\"page_info\":{\"has_next_page\":false,\"end_cursor\":null},\"edges\":[]}}},{\"node\":{\"id\":\"17876764196142496\",\"text\":\"😍😍😍\",\"created_at\":1611665985,\"did_report_as_spam\":false,\"owner\":{\"id\":\"7309518057\",\"is_verified\":false,\"profile_pic_url\":\"https://scontent-iad3-2.cdninstagram.com/v/t51.2885-19/s150x150/121708682_793122634566671_330454892789091056_n.jpg?tp=1&_nc_ht=scontent-iad3-2.cdninstagram.com&_nc_ohc=FaA2Te-3T-oAX-SEyGw&edm=AMrZAGUBAAAA&ccb=7-4&oh=f27ec88624530b63fef0bfd24487f74d&oe=60A6CDD5&_nc_sid=9fb510\",\"username\":\"urbanjunglehuset\"},\"viewer_has_liked\":false,\"edge_liked_by\":{\"count\":1},\"edge_threaded_comments\":{\"count\":0,\"page_info\":{\"has_next_page\":false,\"end_cursor\":null},\"edges\":[]}}},{\"node\":{\"id\":\"17866522157289578\",\"text\":\"❤️❤️❤️\",\"created_at\":1612186699,\"did_report_as_spam\":false,\"owner\":{\"id\":\"13531528080\",\"is_verified\":false,\"profile_pic_url\":\"https://scontent-iad3-2.cdninstagram.com/v/t51.2885-19/s150x150/140290896_107963407845394_6888345962257977962_n.jpg?tp=1&_nc_ht=scontent-iad3-2.cdninstagram.com&_nc_ohc=nQa5vMNc8CwAX8QSXI1&edm=AMrZAGUBAAAA&ccb=7-4&oh=4ef3276afc5f4d7334a8e3bc5f32673f&oe=60A7475B&_nc_sid=9fb510\",\"username\":\"mahan_time_del\"},\"viewer_has_liked\":false,\"edge_liked_by\":{\"count\":1},\"edge_threaded_comments\":{\"count\":0,\"page_info\":{\"has_next_page\":false,\"end_cursor\":null},\"edges\":[]}}},{\"node\":{\"id\":\"17848337615514422\",\"text\":\"😍😍😍😍\",\"created_at\":1612760526,\"did_report_as_spam\":false,\"owner\":{\"id\":\"45449993960\",\"is_verified\":false,\"profile_pic_url\":\"https://scontent-iad3-2.cdninstagram.com/v/t51.2885-19/s150x150/169469100_149049450382441_7799210010733872897_n.jpg?tp=1&_nc_ht=scontent-iad3-2.cdninstagram.com&_nc_ohc=7qbxem2cXIkAX_Wogk_&edm=AMrZAGUBAAAA&ccb=7-4&oh=b9a6624b70bfd1fabe68e3f9afd8a152&oe=60A43B3F&_nc_sid=9fb510\",\"username\":\"erf.118\"},\"viewer_has_liked\":false,\"edge_liked_by\":{\"count\":1},\"edge_threaded_comments\":{\"count\":0,\"page_info\":{\"has_next_page\":false,\"end_cursor\":null},\"edges\":[]}}},{\"node\":{\"id\":\"17880039674110669\",\"text\":\"Iamlight09\",\"created_at\":1613353044,\"did_report_as_spam\":false,\"owner\":{\"id\":\"31776856424\",\"is_verified\":false,\"profile_pic_url\":\"https://scontent-iad3-2.cdninstagram.com/v/t51.2885-19/s150x150/147557468_1371165523220617_1765763539867702045_n.jpg?tp=1&_nc_ht=scontent-iad3-2.cdninstagram.com&_nc_ohc=gZKTEza2dBoAX99USGC&edm=AMrZAGUBAAAA&ccb=7-4&oh=59d10f760e9de0c2398b460411263674&oe=60A72632&_nc_sid=9fb510\",\"username\":\"iamlight09\"},\"viewer_has_liked\":false,\"edge_liked_by\":{\"count\":1},\"edge_threaded_comments\":{\"count\":0,\"page_info\":{\"has_next_page\":false,\"end_cursor\":null},\"edges\":[]}}},{\"node\":{\"id\":\"17938559776454858\",\"text\":\"🔥\",\"created_at\":1613548454,\"did_report_as_spam\":false,\"owner\":{\"id\":\"4404674783\",\"is_verified\":false,\"profile_pic_url\":\"https://scontent-iad3-2.cdninstagram.com/v/t51.2885-19/s150x150/136988462_102423448421124_4436205836746508812_n.jpg?tp=1&_nc_ht=scontent-iad3-2.cdninstagram.com&_nc_ohc=qkG95uuvthEAX-WgKRX&edm=AMrZAGUBAAAA&ccb=7-4&oh=9531a431698a45fd9fcb77d4b661a8e1&oe=60A40798&_nc_sid=9fb510\",\"username\":\"beloved_hunk\"},\"viewer_has_liked\":false,\"edge_liked_by\":{\"count\":1},\"edge_threaded_comments\":{\"count\":0,\"page_info\":{\"has_next_page\":false,\"end_cursor\":null},\"edges\":[]}}},{\"node\":{\"id\":\"17873249585286647\",\"text\":\"Great work the shadows are perfect\",\"created_at\":1613607611,\"did_report_as_spam\":false,\"owner\":{\"id\":\"45609421877\",\"is_verified\":false,\"profile_pic_url\":\"https://scontent-iad3-2.cdninstagram.com/v/t51.2885-19/s150x150/141029735_1070426216716105_8008720059106796071_n.jpg?tp=1&_nc_ht=scontent-iad3-2.cdninstagram.com&_nc_ohc=GsYIfAkZNG0AX97rfFf&edm=AMrZAGUBAAAA&ccb=7-4&oh=e209993d54905ec3cdbbbd60c3100e43&oe=60A41BBE&_nc_sid=9fb510\",\"username\":\"watto_photos\"},\"viewer_has_liked\":false,\"edge_liked_by\":{\"count\":1},\"edge_threaded_comments\":{\"count\":0,\"page_info\":{\"has_next_page\":false,\"end_cursor\":null},\"edges\":[]}}},{\"node\":{\"id\":\"17874922403280818\",\"text\":\"cool🔥\",\"created_at\":1615089893,\"did_report_as_spam\":false,\"owner\":{\"id\":\"44592877028\",\"is_verified\":false,\"profile_pic_url\":\"https://scontent-iad3-2.cdninstagram.com/v/t51.2885-19/s150x150/174881644_257043122779085_937852940610643553_n.jpg?tp=1&_nc_ht=scontent-iad3-2.cdninstagram.com&_nc_ohc=pPNuUYBhSEgAX9DvttM&edm=AMrZAGUBAAAA&ccb=7-4&oh=b6095b6fe0d81f5c1643352e68ed9bf9&oe=60A471EA&_nc_sid=9fb510\",\"username\":\"__saimun_90\"},\"viewer_has_liked\":false,\"edge_liked_by\":{\"count\":2},\"edge_threaded_comments\":{\"count\":0,\"page_info\":{\"has_next_page\":false,\"end_cursor\":null},\"edges\":[]}}},{\"node\":{\"id\":\"17873188940337432\",\"text\":\"Beautiful😍\",\"created_at\":1617190345,\"did_report_as_spam\":false,\"owner\":{\"id\":\"44883478369\",\"is_verified\":false,\"profile_pic_url\":\"https://scontent-iad3-2.cdninstagram.com/v/t51.2885-19/s150x150/174008459_1422570574748419_1276137872512795242_n.jpg?tp=1&_nc_ht=scontent-iad3-2.cdninstagram.com&_nc_ohc=lsVXaHDT7O8AX-U9ZOF&edm=AMrZAGUBAAAA&ccb=7-4&oh=a1314d97ac2eb9fe26553e7553743e05&oe=60A57FE2&_nc_sid=9fb510\",\"username\":\"bynimra25_ng\"},\"viewer_has_liked\":false,\"edge_liked_by\":{\"count\":2},\"edge_threaded_comments\":{\"count\":0,\"page_info\":{\"has_next_page\":false,\"end_cursor\":null},\"edges\":[]}}},{\"node\":{\"id\":\"17891097410043915\",\"text\":\"6360\",\"created_at\":1617557556,\"did_report_as_spam\":false,\"owner\":{\"id\":\"12324896608\",\"is_verified\":false,\"profile_pic_url\":\"https://scontent-iad3-2.cdninstagram.com/v/t51.2885-19/s150x150/175644354_2205007636303129_971437820404592449_n.jpg?tp=1&_nc_ht=scontent-iad3-2.cdninstagram.com&_nc_ohc=qR9W5y8Z15MAX9X0fIP&edm=AMrZAGUBAAAA&ccb=7-4&oh=004212a919fc5d573ef0a90db8cf9be4&oe=60A6F3E2&_nc_sid=9fb510\",\"username\":\"sha_nzz_\"},\"viewer_has_liked\":false,\"edge_liked_by\":{\"count\":0},\"edge_threaded_comments\":{\"count\":0,\"page_info\":{\"has_next_page\":false,\"end_cursor\":null},\"edges\":[]}}},{\"node\":{\"id\":\"18215992603003595\",\"text\":\"🙌🙌\",\"created_at\":1618073797,\"did_report_as_spam\":false,\"owner\":{\"id\":\"28115433263\",\"is_verified\":false,\"profile_pic_url\":\"https://scontent-iad3-2.cdninstagram.com/v/t51.2885-19/s150x150/80351802_1177405032650468_7598436766038622208_n.jpg?tp=1&_nc_ht=scontent-iad3-2.cdninstagram.com&_nc_ohc=7kA3Skm4Z7oAX_R7ufc&edm=AMrZAGUBAAAA&ccb=7-4&oh=92130109f48ea079e52ec1b4f0fb3bad&oe=60A62CBA&_nc_sid=9fb510\",\"username\":\"sviatosla184\"},\"viewer_has_liked\":false,\"edge_liked_by\":{\"count\":0},\"edge_threaded_comments\":{\"count\":0,\"page_info\":{\"has_next_page\":false,\"end_cursor\":null},\"edges\":[]}}}]}}},\"status\":\"ok\"}\n"
          ],
          "name": "stdout"
        }
      ]
    },
    {
      "cell_type": "code",
      "metadata": {
        "id": "KeTXXC-98eoM",
        "colab": {
          "base_uri": "https://localhost:8080/"
        },
        "outputId": "539439c6-0e7f-4dba-bbf8-96f327437cbc"
      },
      "source": [
        "import http.client\n",
        "\n",
        "conn = http.client.HTTPSConnection(\"instagramdimashirokovv1.p.rapidapi.com\")\n",
        "\n",
        "headers = {\n",
        "    'x-rapidapi-key': \"0681519093msh68e132181ba751ap1fa947jsn7be7d3cbb389\",\n",
        "    'x-rapidapi-host': \"InstagramdimashirokovV1.p.rapidapi.com\"\n",
        "    }\n",
        "\n",
        "conn.request(\"GET\", \"/likes/digitalinnovation/optional\", headers=headers)\n",
        "\n",
        "res = conn.getresponse()\n",
        "data = res.read()\n",
        "\n",
        "print(data.decode(\"utf-8\"))"
      ],
      "execution_count": 8,
      "outputs": [
        {
          "output_type": "stream",
          "text": [
            "<!DOCTYPE html>\n",
            "<!--[if lt IE 7]> <html class=\"no-js ie6 oldie\" lang=\"en-US\"> <![endif]-->\n",
            "<!--[if IE 7]>    <html class=\"no-js ie7 oldie\" lang=\"en-US\"> <![endif]-->\n",
            "<!--[if IE 8]>    <html class=\"no-js ie8 oldie\" lang=\"en-US\"> <![endif]-->\n",
            "<!--[if gt IE 8]><!--> <html class=\"no-js\" lang=\"en-US\"> <!--<![endif]-->\n",
            "<head>\n",
            "<title>Worker threw exception | igapi.net | Cloudflare</title></title>\n",
            "<meta charset=\"UTF-8\" />\n",
            "<meta http-equiv=\"Content-Type\" content=\"text/html; charset=UTF-8\" />\n",
            "<meta http-equiv=\"X-UA-Compatible\" content=\"IE=Edge,chrome=1\" />\n",
            "<meta name=\"robots\" content=\"noindex, nofollow\" />\n",
            "<meta name=\"viewport\" content=\"width=device-width,initial-scale=1\" />\n",
            "<link rel=\"stylesheet\" id=\"cf_styles-css\" href=\"/cdn-cgi/styles/cf.errors.css\" type=\"text/css\" media=\"screen,projection\" />\n",
            "<!--[if lt IE 9]><link rel=\"stylesheet\" id='cf_styles-ie-css' href=\"/cdn-cgi/styles/cf.errors.ie.css\" type=\"text/css\" media=\"screen,projection\" /><![endif]-->\n",
            "<style type=\"text/css\">body{margin:0;padding:0}</style>\n",
            "\n",
            "\n",
            "<!--[if gte IE 10]><!-->\n",
            "<script>\n",
            "  if (!navigator.cookieEnabled) {\n",
            "    window.addEventListener('DOMContentLoaded', function () {\n",
            "      var cookieEl = document.getElementById('cookie-alert');\n",
            "      cookieEl.style.display = 'block';\n",
            "    })\n",
            "  }\n",
            "</script>\n",
            "<!--<![endif]-->\n",
            "\n",
            "\n",
            "</head>\n",
            "<body>\n",
            "  <div id=\"cf-wrapper\">\n",
            "    <div class=\"cf-alert cf-alert-error cf-cookie-error\" id=\"cookie-alert\" data-translate=\"enable_cookies\">Please enable cookies.</div>\n",
            "    <div id=\"cf-error-details\" class=\"cf-error-details-wrapper\">\n",
            "      <div class=\"cf-wrapper cf-header cf-error-overview\">\n",
            "        <h1>\n",
            "          <span class=\"cf-error-type\" data-translate=\"error\">Error</span>\n",
            "          <span class=\"cf-error-code\">1101</span>\n",
            "          <small class=\"heading-ray-id\">Ray ID: 6437a158df242b35 &bull; 2021-04-21 15:26:21 UTC</small>\n",
            "        </h1>\n",
            "        <h2 class=\"cf-subheadline\" data-translate=\"error_desc\">Worker threw exception</h2>\n",
            "      </div><!-- /.header -->\n",
            "\n",
            "      <section></section><!-- spacer -->\n",
            "\n",
            "      <div class=\"cf-section cf-wrapper\">\n",
            "        <div class=\"cf-columns two\">\n",
            "          <div class=\"cf-column\">\n",
            "            <h2 data-translate=\"what_happened\">What happened?</h2>\n",
            "            <p>You've requested a page on a website (igapi.net) that is on the <a data-orig-proto=\"https\" data-orig-ref=\"www.cloudflare.com/5xx-error-landing/\" target=\"_blank\">Cloudflare</a> network. An unknown error occurred while rendering the page.</p>\n",
            "          </div>\n",
            "\n",
            "          \n",
            "          <div class=\"cf-column\">\n",
            "            <h2 data-translate=\"what_can_i_do\">What can I do?</h2>\n",
            "            <p><strong>If you are the owner of this website:</strong><br />you should <a data-orig-proto=\"https\" data-orig-ref=\"www.cloudflare.com/login?utm_source=error_100x\" target=\"_blank\">login to Cloudflare</a> and check the error logs for igapi.net.</p>\n",
            "          </div>\n",
            "          \n",
            "        </div>\n",
            "      </div><!-- /.section -->\n",
            "\n",
            "      <div class=\"cf-error-footer cf-wrapper w-240 lg:w-full py-10 sm:py-4 sm:px-8 mx-auto text-center sm:text-left border-solid border-0 border-t border-gray-300\">\n",
            "  <p class=\"text-13\">\n",
            "    <span class=\"cf-footer-item sm:block sm:mb-1\">Cloudflare Ray ID: <strong class=\"font-semibold\">6437a158df242b35</strong></span>\n",
            "    <span class=\"cf-footer-separator sm:hidden\">&bull;</span>\n",
            "    <span class=\"cf-footer-item sm:block sm:mb-1\"><span>Your IP</span>: 18.184.214.33</span>\n",
            "    <span class=\"cf-footer-separator sm:hidden\">&bull;</span>\n",
            "    <span class=\"cf-footer-item sm:block sm:mb-1\"><span>Performance &amp; security by</span> <a rel=\"noopener noreferrer\" href=\"https://www.cloudflare.com/5xx-error-landing\" id=\"brand_link\" target=\"_blank\">Cloudflare</a></span>\n",
            "    \n",
            "  </p>\n",
            "</div><!-- /.error-footer -->\n",
            "\n",
            "\n",
            "    </div><!-- /#cf-error-details -->\n",
            "  </div><!-- /#cf-wrapper -->\n",
            "\n",
            "  <script type=\"text/javascript\">\n",
            "  window._cf_translation = {};\n",
            "  \n",
            "  \n",
            "</script>\n",
            "\n",
            "</body>\n",
            "</html>\n",
            "\n",
            "\n"
          ],
          "name": "stdout"
        }
      ]
    },
    {
      "cell_type": "code",
      "metadata": {
        "colab": {
          "base_uri": "https://localhost:8080/",
          "height": 347
        },
        "id": "NTrJogZWHfgI",
        "outputId": "99fff5db-4b95-43c3-f697-00633f6c74ed"
      },
      "source": [
        "import pickle\n",
        "import os.path\n",
        "from googleapiclient.discovery import build\n",
        "from google_auth_oauthlib.flow import InstalledAppFlow\n",
        "from google.auth.transport.requests import Request\n",
        "\n",
        "import json\n",
        "import requests\n",
        "from bs4 import BeautifulSoup\n",
        "from datetime import datetime\n",
        "\n",
        "# If modifying these scopes, delete the file token.pickle.\n",
        "# Note that this scope is for Read-Write permissions.\n",
        "SCOPES = ['https://www.googleapis.com/auth/spreadsheets']\n",
        "\n",
        "SPREADSHEET_ID = '###REPLACE WITH YOUR SHEET ID ###'\n",
        "WRITE_RANGE_NAME = 'Followers!A2:C' # 'SheetName!Range'\n",
        "CREDS_PATH = os.path.abspath('./creds/token.pickle')\n",
        "\n",
        "def main():\n",
        "    creds = None\n",
        "    # The file token.pickle stores the user's access and refresh tokens, and is\n",
        "    # created automatically when the authorization flow completes for the first\n",
        "    # time.\n",
        "    if os.path.exists(CREDS_PATH):\n",
        "        with open(CREDS_PATH, 'rb') as token:\n",
        "            creds = pickle.load(token)\n",
        "\n",
        "    # If there are no (valid) credentials available, let the user log in.\n",
        "    if not creds or not creds.valid:\n",
        "        if creds and creds.expired and creds.refresh_token:\n",
        "            creds.refresh(Request())\n",
        "        else:\n",
        "            flow = InstalledAppFlow.from_client_secrets_file('credentials.json', SCOPES)\n",
        "            creds = flow.run_local_server(port=55680)\n",
        "        # Save the credentials for the next run\n",
        "        with open(CREDS_PATH, 'wb') as token:\n",
        "            pickle.dump(creds, token)\n",
        "\n",
        "    # Get the followers. You might probably want to move this to a function.\n",
        "    URL = 'https://www.instagram.com/linaestadeviaje/'\n",
        "    page = requests.get(URL)\n",
        "\n",
        "    soup = BeautifulSoup(page.content, 'html.parser')\n",
        "    followers = re.search('\"edge_followed_by\":{\"count\":(\\d*)}', soup.prettify()).group(1)\n",
        "\n",
        "    # A bit of sugar to get date and time\n",
        "    now = datetime.now()\n",
        "    date_string = now.strftime(\"%m/%d/%Y\")\n",
        "    time_string = now.strftime(\"%H:%M:%S\")\n",
        "\n",
        "    # Call the Sheets API\n",
        "    service = build('sheets', 'v4', credentials=creds)\n",
        "    sheet = service.spreadsheets()\n",
        "\n",
        "    # Append a new row with the form [date, time, num_followers]\n",
        "    sheet.values().append(spreadsheetId=SAMPLE_SPREADSHEET_ID,\n",
        "                          range=WRITE_RANGE_NAME,\n",
        "                          valueInputOption='RAW',\n",
        "                          body={'values': [[date_string, time_string, followers]]}).execute()\n",
        "\n",
        "if __name__ == '__main__':\n",
        "    main()"
      ],
      "execution_count": 13,
      "outputs": [
        {
          "output_type": "error",
          "ename": "FileNotFoundError",
          "evalue": "ignored",
          "traceback": [
            "\u001b[0;31m---------------------------------------------------------------------------\u001b[0m",
            "\u001b[0;31mFileNotFoundError\u001b[0m                         Traceback (most recent call last)",
            "\u001b[0;32m<ipython-input-13-461b67878dc0>\u001b[0m in \u001b[0;36m<module>\u001b[0;34m()\u001b[0m\n\u001b[1;32m     61\u001b[0m \u001b[0;34m\u001b[0m\u001b[0m\n\u001b[1;32m     62\u001b[0m \u001b[0;32mif\u001b[0m \u001b[0m__name__\u001b[0m \u001b[0;34m==\u001b[0m \u001b[0;34m'__main__'\u001b[0m\u001b[0;34m:\u001b[0m\u001b[0;34m\u001b[0m\u001b[0;34m\u001b[0m\u001b[0m\n\u001b[0;32m---> 63\u001b[0;31m     \u001b[0mmain\u001b[0m\u001b[0;34m(\u001b[0m\u001b[0;34m)\u001b[0m\u001b[0;34m\u001b[0m\u001b[0;34m\u001b[0m\u001b[0m\n\u001b[0m",
            "\u001b[0;32m<ipython-input-13-461b67878dc0>\u001b[0m in \u001b[0;36mmain\u001b[0;34m()\u001b[0m\n\u001b[1;32m     32\u001b[0m             \u001b[0mcreds\u001b[0m\u001b[0;34m.\u001b[0m\u001b[0mrefresh\u001b[0m\u001b[0;34m(\u001b[0m\u001b[0mRequest\u001b[0m\u001b[0;34m(\u001b[0m\u001b[0;34m)\u001b[0m\u001b[0;34m)\u001b[0m\u001b[0;34m\u001b[0m\u001b[0;34m\u001b[0m\u001b[0m\n\u001b[1;32m     33\u001b[0m         \u001b[0;32melse\u001b[0m\u001b[0;34m:\u001b[0m\u001b[0;34m\u001b[0m\u001b[0;34m\u001b[0m\u001b[0m\n\u001b[0;32m---> 34\u001b[0;31m             \u001b[0mflow\u001b[0m \u001b[0;34m=\u001b[0m \u001b[0mInstalledAppFlow\u001b[0m\u001b[0;34m.\u001b[0m\u001b[0mfrom_client_secrets_file\u001b[0m\u001b[0;34m(\u001b[0m\u001b[0;34m'credentials.json'\u001b[0m\u001b[0;34m,\u001b[0m \u001b[0mSCOPES\u001b[0m\u001b[0;34m)\u001b[0m\u001b[0;34m\u001b[0m\u001b[0;34m\u001b[0m\u001b[0m\n\u001b[0m\u001b[1;32m     35\u001b[0m             \u001b[0mcreds\u001b[0m \u001b[0;34m=\u001b[0m \u001b[0mflow\u001b[0m\u001b[0;34m.\u001b[0m\u001b[0mrun_local_server\u001b[0m\u001b[0;34m(\u001b[0m\u001b[0mport\u001b[0m\u001b[0;34m=\u001b[0m\u001b[0;36m55680\u001b[0m\u001b[0;34m)\u001b[0m\u001b[0;34m\u001b[0m\u001b[0;34m\u001b[0m\u001b[0m\n\u001b[1;32m     36\u001b[0m         \u001b[0;31m# Save the credentials for the next run\u001b[0m\u001b[0;34m\u001b[0m\u001b[0;34m\u001b[0m\u001b[0;34m\u001b[0m\u001b[0m\n",
            "\u001b[0;32m/usr/local/lib/python3.7/dist-packages/google_auth_oauthlib/flow.py\u001b[0m in \u001b[0;36mfrom_client_secrets_file\u001b[0;34m(cls, client_secrets_file, scopes, **kwargs)\u001b[0m\n\u001b[1;32m    201\u001b[0m             \u001b[0mFlow\u001b[0m\u001b[0;34m:\u001b[0m \u001b[0mThe\u001b[0m \u001b[0mconstructed\u001b[0m \u001b[0mFlow\u001b[0m \u001b[0minstance\u001b[0m\u001b[0;34m.\u001b[0m\u001b[0;34m\u001b[0m\u001b[0;34m\u001b[0m\u001b[0m\n\u001b[1;32m    202\u001b[0m         \"\"\"\n\u001b[0;32m--> 203\u001b[0;31m         \u001b[0;32mwith\u001b[0m \u001b[0mopen\u001b[0m\u001b[0;34m(\u001b[0m\u001b[0mclient_secrets_file\u001b[0m\u001b[0;34m,\u001b[0m \u001b[0;34m\"r\"\u001b[0m\u001b[0;34m)\u001b[0m \u001b[0;32mas\u001b[0m \u001b[0mjson_file\u001b[0m\u001b[0;34m:\u001b[0m\u001b[0;34m\u001b[0m\u001b[0;34m\u001b[0m\u001b[0m\n\u001b[0m\u001b[1;32m    204\u001b[0m             \u001b[0mclient_config\u001b[0m \u001b[0;34m=\u001b[0m \u001b[0mjson\u001b[0m\u001b[0;34m.\u001b[0m\u001b[0mload\u001b[0m\u001b[0;34m(\u001b[0m\u001b[0mjson_file\u001b[0m\u001b[0;34m)\u001b[0m\u001b[0;34m\u001b[0m\u001b[0;34m\u001b[0m\u001b[0m\n\u001b[1;32m    205\u001b[0m \u001b[0;34m\u001b[0m\u001b[0m\n",
            "\u001b[0;31mFileNotFoundError\u001b[0m: [Errno 2] No such file or directory: 'credentials.json'"
          ]
        }
      ]
    }
  ]
}