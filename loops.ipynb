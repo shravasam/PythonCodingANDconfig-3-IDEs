{
  "nbformat": 4,
  "nbformat_minor": 0,
  "metadata": {
    "colab": {
      "name": "loops.ipynb",
      "provenance": [],
      "authorship_tag": "ABX9TyM9e8vOKKUccQwqircQf0aM",
      "include_colab_link": true
    },
    "kernelspec": {
      "name": "python3",
      "display_name": "Python 3"
    }
  },
  "cells": [
    {
      "cell_type": "markdown",
      "metadata": {
        "id": "view-in-github",
        "colab_type": "text"
      },
      "source": [
        "<a href=\"https://colab.research.google.com/github/shravasam/PythonCodingANDconfig-3-IDEs/blob/master/loops.ipynb\" target=\"_parent\"><img src=\"https://colab.research.google.com/assets/colab-badge.svg\" alt=\"Open In Colab\"/></a>"
      ]
    },
    {
      "cell_type": "markdown",
      "metadata": {
        "id": "SkyMORhfBOz-"
      },
      "source": [
        "#13. print numbers using for loop and range method\n"
      ]
    },
    {
      "cell_type": "code",
      "metadata": {
        "colab": {
          "base_uri": "https://localhost:8080/"
        },
        "id": "yzPsnA1DBP2x",
        "outputId": "b22f0541-51af-4776-fce1-601d579d3307"
      },
      "source": [
        "#For loop and range fuction\n",
        "\n",
        "mynum = [9,10,11,12,13,14]\n",
        "for num in range(1,5):\n",
        "    print(num)\n",
        "    print('hello')\n",
        "mynum2 = [1,2,3,4,2,12,]\n",
        "for nums in range(1,6):\n",
        "    print (nums)\n",
        "    "
      ],
      "execution_count": 1,
      "outputs": [
        {
          "output_type": "stream",
          "text": [
            "1\n",
            "hello\n",
            "2\n",
            "hello\n",
            "3\n",
            "hello\n",
            "4\n",
            "hello\n",
            "1\n",
            "2\n",
            "3\n",
            "4\n",
            "5\n"
          ],
          "name": "stdout"
        }
      ]
    },
    {
      "cell_type": "markdown",
      "metadata": {
        "id": "zVdK3XETCDIQ"
      },
      "source": [
        ""
      ]
    },
    {
      "cell_type": "markdown",
      "metadata": {
        "id": "VpjLnhj-BU7r"
      },
      "source": [
        "#14. If condition is true it stops printing numbers(using if-elif-else)"
      ]
    },
    {
      "cell_type": "code",
      "metadata": {
        "colab": {
          "base_uri": "https://localhost:8080/"
        },
        "id": "hgL4V5rUCNJv",
        "outputId": "b7eaeeee-a439-4adf-ae22-090a5c482499"
      },
      "source": [
        "#if-elif-else\n",
        "#if any stmet is correct it stops and never continue to another stamt\n",
        "\n",
        "a = 110\n",
        "b = 10\n",
        "c = 1\n",
        "d = 2\n",
        "e = 3\n",
        "f = 4\n",
        "g = 5\n",
        "h = 6\n",
        "i = 7\n",
        "j = 8\n",
        "k = 0\n",
        "l = 0\n",
        "m = 1\n",
        "n = 2\n",
        "o = 3\n",
        "p = 4\n",
        "q = 5\n",
        "r = 6\n",
        "s = 7\n",
        "t = 2\n",
        "\n",
        "if a < b:\n",
        "    print('B is greater than A')\n",
        "elif b < c:\n",
        "    print('C is greater than B')\n",
        "elif c < d:\n",
        "    print('D is greater than C')\n",
        "elif e < f:\n",
        "    print('F is greater than E')\n",
        "elif f < g:\n",
        "    print('G is greater than F')\n",
        "elif g < h:\n",
        "    print('H is greater than I')\n",
        "elif h < i:\n",
        "    print (' I is greater than H')\n",
        "elif i < j:\n",
        "    print('j is greater than I')\n",
        "elif j < i:\n",
        "    print ('I is greater than J')\n",
        "elif k < l:\n",
        "    print('L is greater than K')\n",
        "elif m < n:\n",
        "    print('N is greater than M')\n",
        "elif o < p:\n",
        "    print('P is greater than O')\n",
        "elif q < r:\n",
        "    print('R is greater than Q')\n",
        "elif s < r:\n",
        "    print('R is greater than S')\n",
        "elif t < s:\n",
        "    print('S is greater than T')\n",
        "else:\n",
        "    print(' Nothing is greater than any thing here')"
      ],
      "execution_count": 2,
      "outputs": [
        {
          "output_type": "stream",
          "text": [
            "D is greater than C\n"
          ],
          "name": "stdout"
        }
      ]
    },
    {
      "cell_type": "markdown",
      "metadata": {
        "id": "BpkezV0BCXya"
      },
      "source": [
        "#15. printing numbers till condition false using while loop"
      ]
    },
    {
      "cell_type": "code",
      "metadata": {
        "colab": {
          "base_uri": "https://localhost:8080/"
        },
        "id": "ejgqxx8hCdSw",
        "outputId": "44895333-0d4d-4eba-ab60-c3b3ac0c582d"
      },
      "source": [
        "condition = 1\n",
        "condition1 = 2\n",
        "condition2 = 3\n",
        "condition3 = 4\n",
        "condition4 = 5\n",
        "condition5 = 6\n",
        "condition6 =6\n",
        "condition7 = 7\n",
        "condition8 = 8\n",
        "condition9 = 9\n",
        "condition10 = 10\n",
        "condition11 = 11\n",
        "condition12 = 12\n",
        "condition13 = 13\n",
        "condition14 = 14\n",
        "\n",
        "while condition < 10:\n",
        "    print(condition)\n",
        "    condition +=1\n",
        "while condition1 < 10:\n",
        "    print(condition1)\n",
        "    condition1 +=1\n",
        "while condition2 < 20:\n",
        "    print (condition2)\n",
        "    condition2 +=1\n",
        "while condition3 < 30:\n",
        "    print (condition3)\n",
        "    condition3 +=1\n",
        "while condition4 < 30:\n",
        "    print (condition4)\n",
        "    condition4 +=1\n",
        "while condition5 < 40:\n",
        "    print (condition5)\n",
        "    condition5 +=1\n",
        "while condition6 < 50:\n",
        "    print(condition6)\n",
        "    condition6 +=1\n",
        "while condition7 < 33:\n",
        "    print(condition7)\n",
        "    condition7 +=1\n",
        "while condition8 < 22:\n",
        "    print (condition7)\n",
        "    condition8 +=1\n",
        "while condition9 < 12:\n",
        "    print  (condition9)\n",
        "    condition9 +=1\n",
        "while condition10 < 13:\n",
        "    print(condition10)\n",
        "    condition10 +=1\n",
        "while condition11 < 14:\n",
        "    print (condition11)\n",
        "    condition11 +=1\n",
        "while condition12 < 15:\n",
        "    print (condition12)\n",
        "    condition12 +=1\n",
        "while condition13 < 16:\n",
        "    print (condition13)\n",
        "    condition13 +=1\n",
        "while condition14 < 17:\n",
        "    print  (condition14)\n",
        "    condition14 +=1"
      ],
      "execution_count": 3,
      "outputs": [
        {
          "output_type": "stream",
          "text": [
            "1\n",
            "2\n",
            "3\n",
            "4\n",
            "5\n",
            "6\n",
            "7\n",
            "8\n",
            "9\n",
            "2\n",
            "3\n",
            "4\n",
            "5\n",
            "6\n",
            "7\n",
            "8\n",
            "9\n",
            "3\n",
            "4\n",
            "5\n",
            "6\n",
            "7\n",
            "8\n",
            "9\n",
            "10\n",
            "11\n",
            "12\n",
            "13\n",
            "14\n",
            "15\n",
            "16\n",
            "17\n",
            "18\n",
            "19\n",
            "4\n",
            "5\n",
            "6\n",
            "7\n",
            "8\n",
            "9\n",
            "10\n",
            "11\n",
            "12\n",
            "13\n",
            "14\n",
            "15\n",
            "16\n",
            "17\n",
            "18\n",
            "19\n",
            "20\n",
            "21\n",
            "22\n",
            "23\n",
            "24\n",
            "25\n",
            "26\n",
            "27\n",
            "28\n",
            "29\n",
            "5\n",
            "6\n",
            "7\n",
            "8\n",
            "9\n",
            "10\n",
            "11\n",
            "12\n",
            "13\n",
            "14\n",
            "15\n",
            "16\n",
            "17\n",
            "18\n",
            "19\n",
            "20\n",
            "21\n",
            "22\n",
            "23\n",
            "24\n",
            "25\n",
            "26\n",
            "27\n",
            "28\n",
            "29\n",
            "6\n",
            "7\n",
            "8\n",
            "9\n",
            "10\n",
            "11\n",
            "12\n",
            "13\n",
            "14\n",
            "15\n",
            "16\n",
            "17\n",
            "18\n",
            "19\n",
            "20\n",
            "21\n",
            "22\n",
            "23\n",
            "24\n",
            "25\n",
            "26\n",
            "27\n",
            "28\n",
            "29\n",
            "30\n",
            "31\n",
            "32\n",
            "33\n",
            "34\n",
            "35\n",
            "36\n",
            "37\n",
            "38\n",
            "39\n",
            "6\n",
            "7\n",
            "8\n",
            "9\n",
            "10\n",
            "11\n",
            "12\n",
            "13\n",
            "14\n",
            "15\n",
            "16\n",
            "17\n",
            "18\n",
            "19\n",
            "20\n",
            "21\n",
            "22\n",
            "23\n",
            "24\n",
            "25\n",
            "26\n",
            "27\n",
            "28\n",
            "29\n",
            "30\n",
            "31\n",
            "32\n",
            "33\n",
            "34\n",
            "35\n",
            "36\n",
            "37\n",
            "38\n",
            "39\n",
            "40\n",
            "41\n",
            "42\n",
            "43\n",
            "44\n",
            "45\n",
            "46\n",
            "47\n",
            "48\n",
            "49\n",
            "7\n",
            "8\n",
            "9\n",
            "10\n",
            "11\n",
            "12\n",
            "13\n",
            "14\n",
            "15\n",
            "16\n",
            "17\n",
            "18\n",
            "19\n",
            "20\n",
            "21\n",
            "22\n",
            "23\n",
            "24\n",
            "25\n",
            "26\n",
            "27\n",
            "28\n",
            "29\n",
            "30\n",
            "31\n",
            "32\n",
            "33\n",
            "33\n",
            "33\n",
            "33\n",
            "33\n",
            "33\n",
            "33\n",
            "33\n",
            "33\n",
            "33\n",
            "33\n",
            "33\n",
            "33\n",
            "33\n",
            "9\n",
            "10\n",
            "11\n",
            "10\n",
            "11\n",
            "12\n",
            "11\n",
            "12\n",
            "13\n",
            "12\n",
            "13\n",
            "14\n",
            "13\n",
            "14\n",
            "15\n",
            "14\n",
            "15\n",
            "16\n"
          ],
          "name": "stdout"
        }
      ]
    },
    {
      "cell_type": "markdown",
      "metadata": {
        "id": "5NqmulH1Cmxg"
      },
      "source": [
        "#16. print names using break & continue statements."
      ]
    },
    {
      "cell_type": "code",
      "metadata": {
        "colab": {
          "base_uri": "https://localhost:8080/"
        },
        "id": "Lfe7C4k4Csed",
        "outputId": "7f82e895-9a41-49e4-ef3d-a766f7dc5836"
      },
      "source": [
        "print (\"Printing statrs from 0\")\n",
        "users = [\"sravan\",\"kumar\",\"vasam\", \"A350\",\"A330\",\"A380\",\"M400\"]\n",
        "for i in users:\n",
        "    if (i == 'vasam'):\n",
        "        continue\n",
        "    print (i)\n",
        "print(\"Printing ending with 45\")\n"
      ],
      "execution_count": 6,
      "outputs": [
        {
          "output_type": "stream",
          "text": [
            "Printing statrs from 0\n",
            "sravan\n",
            "kumar\n",
            "A350\n",
            "A330\n",
            "A380\n",
            "M400\n",
            "Printing ending with 45\n"
          ],
          "name": "stdout"
        }
      ]
    },
    {
      "cell_type": "markdown",
      "metadata": {
        "id": "KuAPbtOkDBTV"
      },
      "source": [
        "#17. Open text file -Exception handling using try-except-else-finally"
      ]
    },
    {
      "cell_type": "code",
      "metadata": {
        "colab": {
          "base_uri": "https://localhost:8080/"
        },
        "id": "7fPUHJisDG5a",
        "outputId": "66800adb-1657-4f45-f69a-2da462ea8769"
      },
      "source": [
        "try:\n",
        "    f = open('test.txt')\n",
        "except Exception:\n",
        "    print (\"sorry file not there\")\n",
        "else:\n",
        "    print(f.read())\n",
        "    f.close()\n",
        "finally:\n",
        "    print (\"its opened\")\n"
      ],
      "execution_count": 7,
      "outputs": [
        {
          "output_type": "stream",
          "text": [
            "sorry file not there\n",
            "its opened\n"
          ],
          "name": "stdout"
        }
      ]
    },
    {
      "cell_type": "markdown",
      "metadata": {
        "id": "LPHGZ7daDRfT"
      },
      "source": [
        "#18.print correct name using if elif else"
      ]
    },
    {
      "cell_type": "code",
      "metadata": {
        "colab": {
          "base_uri": "https://localhost:8080/"
        },
        "id": "TWvCwWK7DZ-D",
        "outputId": "443f6a4f-8703-4381-b18c-1ee5b9a24f6d"
      },
      "source": [
        "name =\"sravans\"\n",
        "\n",
        "if name is \"sravan\":\n",
        "    print(\"hi i am sravan\")\n",
        "elif name is \"vasam\":\n",
        "    print(\"hi i am not sravan\")\n",
        "elif name is \"kumar\":\n",
        "    print(\"hi i am not kumar\")\n",
        "else:\n",
        "    print(\"not true\")\n"
      ],
      "execution_count": 9,
      "outputs": [
        {
          "output_type": "stream",
          "text": [
            "not true\n"
          ],
          "name": "stdout"
        }
      ]
    },
    {
      "cell_type": "markdown",
      "metadata": {
        "id": "EcfSvmLTDpbU"
      },
      "source": [
        "#19.print names using for loop\n"
      ]
    },
    {
      "cell_type": "code",
      "metadata": {
        "id": "fZ5wEH93Dsfp"
      },
      "source": [
        "name =\"sravans\"\n",
        "\n",
        "if name is \"sravan\":\n",
        "    print(\"hi i am sravan\")\n",
        "elif name is \"vasam\":\n",
        "    print(\"hi i am not sravan\")\n",
        "elif name is \"kumar\":\n",
        "    print(\"hi i am not kumar\")\n",
        "else:\n",
        "    print(\"not true\")\n"
      ],
      "execution_count": null,
      "outputs": []
    },
    {
      "cell_type": "markdown",
      "metadata": {
        "id": "KXPQrgrKD5py"
      },
      "source": [
        ""
      ]
    },
    {
      "cell_type": "markdown",
      "metadata": {
        "id": "pQZBLYUWD5wg"
      },
      "source": [
        "#20.using continue statement not to print given integer value in the range function\n",
        "\n",
        "\n"
      ]
    },
    {
      "cell_type": "code",
      "metadata": {
        "colab": {
          "base_uri": "https://localhost:8080/"
        },
        "id": "Qa8YXkDMD8sz",
        "outputId": "fda3f8aa-14b4-46fb-b487-4f22406ddb84"
      },
      "source": [
        "magicnumers = 55\n",
        "for maggi in range(202):\n",
        "    if maggi is magicnumers:\n",
        "        print(maggi,\"Bonjour a tous, Je suis ici, vous pouvez regardez mon nouvelle video. merci\")\n",
        "        continue\n",
        "    else:\n",
        "         print(maggi)"
      ],
      "execution_count": 11,
      "outputs": [
        {
          "output_type": "stream",
          "text": [
            "0\n",
            "1\n",
            "2\n",
            "3\n",
            "4\n",
            "5\n",
            "6\n",
            "7\n",
            "8\n",
            "9\n",
            "10\n",
            "11\n",
            "12\n",
            "13\n",
            "14\n",
            "15\n",
            "16\n",
            "17\n",
            "18\n",
            "19\n",
            "20\n",
            "21\n",
            "22\n",
            "23\n",
            "24\n",
            "25\n",
            "26\n",
            "27\n",
            "28\n",
            "29\n",
            "30\n",
            "31\n",
            "32\n",
            "33\n",
            "34\n",
            "35\n",
            "36\n",
            "37\n",
            "38\n",
            "39\n",
            "40\n",
            "41\n",
            "42\n",
            "43\n",
            "44\n",
            "45\n",
            "46\n",
            "47\n",
            "48\n",
            "49\n",
            "50\n",
            "51\n",
            "52\n",
            "53\n",
            "54\n",
            "55 Bonjour a tous, Je suis ici, vous pouvez regardez mon nouvelle video. merci\n",
            "56\n",
            "57\n",
            "58\n",
            "59\n",
            "60\n",
            "61\n",
            "62\n",
            "63\n",
            "64\n",
            "65\n",
            "66\n",
            "67\n",
            "68\n",
            "69\n",
            "70\n",
            "71\n",
            "72\n",
            "73\n",
            "74\n",
            "75\n",
            "76\n",
            "77\n",
            "78\n",
            "79\n",
            "80\n",
            "81\n",
            "82\n",
            "83\n",
            "84\n",
            "85\n",
            "86\n",
            "87\n",
            "88\n",
            "89\n",
            "90\n",
            "91\n",
            "92\n",
            "93\n",
            "94\n",
            "95\n",
            "96\n",
            "97\n",
            "98\n",
            "99\n",
            "100\n",
            "101\n",
            "102\n",
            "103\n",
            "104\n",
            "105\n",
            "106\n",
            "107\n",
            "108\n",
            "109\n",
            "110\n",
            "111\n",
            "112\n",
            "113\n",
            "114\n",
            "115\n",
            "116\n",
            "117\n",
            "118\n",
            "119\n",
            "120\n",
            "121\n",
            "122\n",
            "123\n",
            "124\n",
            "125\n",
            "126\n",
            "127\n",
            "128\n",
            "129\n",
            "130\n",
            "131\n",
            "132\n",
            "133\n",
            "134\n",
            "135\n",
            "136\n",
            "137\n",
            "138\n",
            "139\n",
            "140\n",
            "141\n",
            "142\n",
            "143\n",
            "144\n",
            "145\n",
            "146\n",
            "147\n",
            "148\n",
            "149\n",
            "150\n",
            "151\n",
            "152\n",
            "153\n",
            "154\n",
            "155\n",
            "156\n",
            "157\n",
            "158\n",
            "159\n",
            "160\n",
            "161\n",
            "162\n",
            "163\n",
            "164\n",
            "165\n",
            "166\n",
            "167\n",
            "168\n",
            "169\n",
            "170\n",
            "171\n",
            "172\n",
            "173\n",
            "174\n",
            "175\n",
            "176\n",
            "177\n",
            "178\n",
            "179\n",
            "180\n",
            "181\n",
            "182\n",
            "183\n",
            "184\n",
            "185\n",
            "186\n",
            "187\n",
            "188\n",
            "189\n",
            "190\n",
            "191\n",
            "192\n",
            "193\n",
            "194\n",
            "195\n",
            "196\n",
            "197\n",
            "198\n",
            "199\n",
            "200\n",
            "201\n"
          ],
          "name": "stdout"
        }
      ]
    }
  ]
}