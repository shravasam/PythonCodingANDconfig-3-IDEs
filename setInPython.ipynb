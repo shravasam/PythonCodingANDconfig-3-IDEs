{
  "nbformat": 4,
  "nbformat_minor": 0,
  "metadata": {
    "colab": {
      "name": "setInPython.ipynb",
      "provenance": [],
      "authorship_tag": "ABX9TyOVTaqazHd3NHa85Bw1+o/J",
      "include_colab_link": true
    },
    "kernelspec": {
      "name": "python3",
      "display_name": "Python 3"
    }
  },
  "cells": [
    {
      "cell_type": "markdown",
      "metadata": {
        "id": "view-in-github",
        "colab_type": "text"
      },
      "source": [
        "<a href=\"https://colab.research.google.com/github/shravasam/PythonCodingANDconfig-3-IDEs/blob/master/setInPython.ipynb\" target=\"_parent\"><img src=\"https://colab.research.google.com/assets/colab-badge.svg\" alt=\"Open In Colab\"/></a>"
      ]
    },
    {
      "cell_type": "code",
      "metadata": {
        "id": "sFxJ_bA4y3LN"
      },
      "source": [
        "A set is a collection which is both unordered and unindexed.\n",
        "Sets are written with curly brackets."
      ],
      "execution_count": null,
      "outputs": []
    },
    {
      "cell_type": "code",
      "metadata": {
        "colab": {
          "base_uri": "https://localhost:8080/"
        },
        "id": "5-xRcDH60no5",
        "outputId": "a29f8470-023a-434e-d0c0-0930a9060f2c"
      },
      "source": [
        "thisset = {\"apple\", \"banana\", \"cherry\"}\n",
        "\n",
        "print(len(thisset))"
      ],
      "execution_count": 1,
      "outputs": [
        {
          "output_type": "stream",
          "text": [
            "3\n"
          ],
          "name": "stdout"
        }
      ]
    },
    {
      "cell_type": "code",
      "metadata": {
        "colab": {
          "base_uri": "https://localhost:8080/"
        },
        "id": "w9-4-0kA01no",
        "outputId": "63360cd4-355e-4f42-c7d3-251864a056b0"
      },
      "source": [
        "set1 = {\"apple\", \"banana\", \"cherry\"}\n",
        "set2 = {1, 5, 7, 9, 3}\n",
        "set3 = {True, False, False}\n",
        "\n",
        "print(set1)\n",
        "print(set2)\n",
        "print(set3)"
      ],
      "execution_count": 2,
      "outputs": [
        {
          "output_type": "stream",
          "text": [
            "{'apple', 'banana', 'cherry'}\n",
            "{1, 3, 5, 7, 9}\n",
            "{False, True}\n"
          ],
          "name": "stdout"
        }
      ]
    },
    {
      "cell_type": "markdown",
      "metadata": {
        "id": "lrDwJv3U2cVE"
      },
      "source": [
        "Add set items"
      ]
    },
    {
      "cell_type": "code",
      "metadata": {
        "colab": {
          "base_uri": "https://localhost:8080/"
        },
        "id": "Avc2AUID2g5M",
        "outputId": "60876372-aede-4423-caab-501ddfccf674"
      },
      "source": [
        "thisset = {\"apple\", \"banana\", \"cherry\"}\n",
        "\n",
        "thisset.add(\"orange\")\n",
        "\n",
        "print(thisset)"
      ],
      "execution_count": 3,
      "outputs": [
        {
          "output_type": "stream",
          "text": [
            "{'apple', 'banana', 'cherry', 'orange'}\n"
          ],
          "name": "stdout"
        }
      ]
    },
    {
      "cell_type": "markdown",
      "metadata": {
        "id": "kpNBaK5M3Ddu"
      },
      "source": [
        "Access Items"
      ]
    },
    {
      "cell_type": "code",
      "metadata": {
        "colab": {
          "base_uri": "https://localhost:8080/"
        },
        "id": "yh-dVw2G3RS3",
        "outputId": "f2d3c9dd-2df2-44d7-866e-1d52e482985d"
      },
      "source": [
        "setExam = {\"A\",\"B\",\"C\"}\n",
        "\n",
        "print(\"B\" in setExam)"
      ],
      "execution_count": 4,
      "outputs": [
        {
          "output_type": "stream",
          "text": [
            "True\n"
          ],
          "name": "stdout"
        }
      ]
    },
    {
      "cell_type": "markdown",
      "metadata": {
        "id": "vtoLwC2i4FS4"
      },
      "source": [
        "Join set"
      ]
    },
    {
      "cell_type": "code",
      "metadata": {
        "colab": {
          "base_uri": "https://localhost:8080/"
        },
        "id": "-RFfPM-q4axj",
        "outputId": "af3e7252-fe5c-4371-ed07-43e715290703"
      },
      "source": [
        "set1 = {\"a\", \"b\" , \"c\"}\n",
        "set2 = {1, 2, 3}\n",
        "\n",
        "set3 = set1.union(set2)\n",
        "print(set3)\n",
        "\n",
        "setOne ={\"car\",\"bike\",\"velo\"}\n",
        "setTwo = {\"maths\",\"c\",\"c++\"}\n",
        "setThree = setOne.union(setTwo)\n",
        "print(setThree)"
      ],
      "execution_count": 6,
      "outputs": [
        {
          "output_type": "stream",
          "text": [
            "{1, 2, 3, 'c', 'b', 'a'}\n",
            "{'c', 'maths', 'c++', 'bike', 'velo', 'car'}\n"
          ],
          "name": "stdout"
        }
      ]
    }
  ]
}