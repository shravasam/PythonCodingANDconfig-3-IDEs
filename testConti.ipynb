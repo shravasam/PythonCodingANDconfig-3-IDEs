{
  "nbformat": 4,
  "nbformat_minor": 0,
  "metadata": {
    "colab": {
      "name": "vasam.ipynb",
      "provenance": [],
      "collapsed_sections": [],
      "authorship_tag": "ABX9TyMapdpic73QMozIhYe9l64P",
      "include_colab_link": true
    },
    "kernelspec": {
      "name": "python3",
      "display_name": "Python 3"
    },
    "language_info": {
      "name": "python"
    }
  },
  "cells": [
    {
      "cell_type": "markdown",
      "metadata": {
        "id": "view-in-github",
        "colab_type": "text"
      },
      "source": [
        "<a href=\"https://colab.research.google.com/github/shravasam/PythonCodingANDconfig-3-IDEs/blob/master/testConti.ipynb\" target=\"_parent\"><img src=\"https://colab.research.google.com/assets/colab-badge.svg\" alt=\"Open In Colab\"/></a>"
      ]
    },
    {
      "cell_type": "code",
      "metadata": {
        "id": "P9N7tDkUI-of"
      },
      "source": [
        "    import os \n",
        "    import csv, glob \n",
        "     \n",
        "    Dir = r\"C:\\Path\\To\\Source\" \n",
        "    Avg_Dir = r\"C:\\Path\\To\\Destination\\Output\" \n",
        "     \n",
        "    csv_file_list = glob.glob(os.path.join(Dir, '*.csv'))  \n",
        "    print (csv_file_list) \n",
        "     \n",
        "    with open(os.path.join(Avg_Dir, 'Output.csv'), 'w', newline='') as f: \n",
        "        wf = csv.writer(f, lineterminator='\\n') \n",
        "     \n",
        "        for files in csv_file_list: \n",
        "            with open(files, 'r') as r:  \n",
        "                next(r)                    \n",
        "                rr = csv.reader(r) \n",
        "                for row in rr: \n",
        "                    wf.writerow(row) "
      ],
      "execution_count": null,
      "outputs": []
    },
    {
      "cell_type": "code",
      "metadata": {
        "id": "TAMWu1NzW5_1"
      },
      "source": [
        ""
      ],
      "execution_count": null,
      "outputs": []
    },
    {
      "cell_type": "markdown",
      "metadata": {
        "id": "-5L9bxFmObXn"
      },
      "source": [
        "Question2"
      ]
    },
    {
      "cell_type": "code",
      "metadata": {
        "id": "FFBu4nx6OdrO"
      },
      "source": [
        "SELECT QUOTES.company_id, COMPANIES.name\n",
        "FROM   COMPANIES\n",
        "LEFT JOIN QUOTES\n",
        "ON COMPANIES.id = QUOTES.company_id;"
      ],
      "execution_count": null,
      "outputs": []
    }
  ]
}