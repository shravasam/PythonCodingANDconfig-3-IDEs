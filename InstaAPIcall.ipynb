{
  "nbformat": 4,
  "nbformat_minor": 0,
  "metadata": {
    "colab": {
      "name": "InstaAPIcall.ipynb",
      "provenance": [],
      "collapsed_sections": [],
      "authorship_tag": "ABX9TyNU4uOy2K9WNpExXnVxGfkH",
      "include_colab_link": true
    },
    "kernelspec": {
      "name": "python3",
      "display_name": "Python 3"
    },
    "language_info": {
      "name": "python"
    }
  },
  "cells": [
    {
      "cell_type": "markdown",
      "metadata": {
        "id": "view-in-github",
        "colab_type": "text"
      },
      "source": [
        "<a href=\"https://colab.research.google.com/github/shravasam/PythonCodingANDconfig-3-IDEs/blob/master/InstaAPIcall.ipynb\" target=\"_parent\"><img src=\"https://colab.research.google.com/assets/colab-badge.svg\" alt=\"Open In Colab\"/></a>"
      ]
    },
    {
      "cell_type": "code",
      "metadata": {
        "id": "jCWrA5K7DJaG"
      },
      "source": [
        "import json\n",
        "from pymongo import MongoClient\n",
        "import http.client\n",
        "\n",
        "conn = http.client.HTTPSConnection(\"instagramdimashirokovv1.p.rapidapi.com\")\n",
        "\n",
        "headers = {\n",
        "    'x-rapidapi-key': \"0681519093msh68e132181ba751ap1fa947jsn7be7d3cbb389\",\n",
        "    'x-rapidapi-host': \"InstagramdimashirokovV1.p.rapidapi.com\"\n",
        "    }\n",
        "\n",
        "conn.request(\"GET\", \"/comments/climatechange/optional\", headers=headers)\n",
        "\n",
        "res = conn.getresponse()\n",
        "data = res.read()\n",
        "\n",
        "client = MongoClient('localhost', 27017)\n",
        "db = client['insta_db']\n",
        "collection_comments = db['comments']\n",
        "# if pymongo >= 3.0 use insert_one() for inserting one document\n",
        "collection_comments.insert_one(data)\n",
        "client.close()\n",
        "\n",
        "#print(data.decode(\"utf-8\"))"
      ],
      "execution_count": null,
      "outputs": []
    }
  ]
}