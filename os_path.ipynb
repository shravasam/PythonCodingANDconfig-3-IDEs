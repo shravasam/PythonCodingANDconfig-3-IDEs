{
  "nbformat": 4,
  "nbformat_minor": 0,
  "metadata": {
    "colab": {
      "name": "os.path.ipynb",
      "provenance": [],
      "collapsed_sections": [],
      "authorship_tag": "ABX9TyNo2wbX3bXCQs68rEiegQJ6",
      "include_colab_link": true
    },
    "kernelspec": {
      "name": "python3",
      "display_name": "Python 3"
    },
    "language_info": {
      "name": "python"
    }
  },
  "cells": [
    {
      "cell_type": "markdown",
      "metadata": {
        "id": "view-in-github",
        "colab_type": "text"
      },
      "source": [
        "<a href=\"https://colab.research.google.com/github/shravasam/PythonCodingANDconfig-3-IDEs/blob/master/os_path.ipynb\" target=\"_parent\"><img src=\"https://colab.research.google.com/assets/colab-badge.svg\" alt=\"Open In Colab\"/></a>"
      ]
    },
    {
      "cell_type": "markdown",
      "metadata": {
        "id": "ZJkKNeSAoVdg"
      },
      "source": [
        "Section 31.1: Join Paths.To join two or more path components together, firstly import os module of python and then use following:"
      ]
    },
    {
      "cell_type": "code",
      "metadata": {
        "colab": {
          "base_uri": "https://localhost:8080/",
          "height": 35
        },
        "id": "N-tplZMnV8XQ",
        "outputId": "1cdb19bd-49fc-4210-f0dc-45c230368c5e"
      },
      "source": [
        "import os\n",
        "os.path.join('a', 'b', 'c')"
      ],
      "execution_count": 1,
      "outputs": [
        {
          "output_type": "execute_result",
          "data": {
            "application/vnd.google.colaboratory.intrinsic+json": {
              "type": "string"
            },
            "text/plain": [
              "'a/b/c'"
            ]
          },
          "metadata": {
            "tags": []
          },
          "execution_count": 1
        }
      ]
    },
    {
      "cell_type": "code",
      "metadata": {
        "id": "3Wnro9NdoyFT"
      },
      "source": [
        "#on Windows will be:\n",
        "os.path.join('a', 'b', 'c')"
      ],
      "execution_count": null,
      "outputs": []
    },
    {
      "cell_type": "code",
      "metadata": {
        "id": "Gpz4NZBPo-hA"
      },
      "source": [
        "#In an Unix OS:\n",
        "os.path.join('a', 'b', 'c')"
      ],
      "execution_count": null,
      "outputs": []
    },
    {
      "cell_type": "markdown",
      "metadata": {
        "id": "zuCKRH_9pQ1T"
      },
      "source": [
        "Section 31.2: Path Component Manipulation"
      ]
    },
    {
      "cell_type": "code",
      "metadata": {
        "colab": {
          "base_uri": "https://localhost:8080/",
          "height": 35
        },
        "id": "hiN13CiYpSOM",
        "outputId": "c53e5467-0665-4b06-ed04-e777d2c635c1"
      },
      "source": [
        "#To split one component off of the path:\n",
        "p = os.path.join(os.getcwd(), 'foo.txt')\n",
        "p"
      ],
      "execution_count": 2,
      "outputs": [
        {
          "output_type": "execute_result",
          "data": {
            "application/vnd.google.colaboratory.intrinsic+json": {
              "type": "string"
            },
            "text/plain": [
              "'/content/foo.txt'"
            ]
          },
          "metadata": {
            "tags": []
          },
          "execution_count": 2
        }
      ]
    },
    {
      "cell_type": "code",
      "metadata": {
        "colab": {
          "base_uri": "https://localhost:8080/",
          "height": 35
        },
        "id": "P0DWNn5gpptx",
        "outputId": "4d9ac97d-70e9-4275-e540-364ca910fce1"
      },
      "source": [
        "os.path.dirname(p)"
      ],
      "execution_count": 3,
      "outputs": [
        {
          "output_type": "execute_result",
          "data": {
            "application/vnd.google.colaboratory.intrinsic+json": {
              "type": "string"
            },
            "text/plain": [
              "'/content'"
            ]
          },
          "metadata": {
            "tags": []
          },
          "execution_count": 3
        }
      ]
    },
    {
      "cell_type": "code",
      "metadata": {
        "colab": {
          "base_uri": "https://localhost:8080/",
          "height": 35
        },
        "id": "4tcJ4b36ps8G",
        "outputId": "21910d94-684e-489d-f884-003995128117"
      },
      "source": [
        "os.path.basename(p)"
      ],
      "execution_count": 4,
      "outputs": [
        {
          "output_type": "execute_result",
          "data": {
            "application/vnd.google.colaboratory.intrinsic+json": {
              "type": "string"
            },
            "text/plain": [
              "'foo.txt'"
            ]
          },
          "metadata": {
            "tags": []
          },
          "execution_count": 4
        }
      ]
    },
    {
      "cell_type": "code",
      "metadata": {
        "colab": {
          "base_uri": "https://localhost:8080/"
        },
        "id": "FC0kAcQKpxjr",
        "outputId": "db7023d4-c743-4f8f-8c34-7b087e46941b"
      },
      "source": [
        "os.path.split(os.getcwd())"
      ],
      "execution_count": 5,
      "outputs": [
        {
          "output_type": "execute_result",
          "data": {
            "text/plain": [
              "('/', 'content')"
            ]
          },
          "metadata": {
            "tags": []
          },
          "execution_count": 5
        }
      ]
    },
    {
      "cell_type": "code",
      "metadata": {
        "colab": {
          "base_uri": "https://localhost:8080/"
        },
        "id": "IWqq80D9p3A3",
        "outputId": "a2c87b1d-440a-4805-ece5-b2275dfff93d"
      },
      "source": [
        "os.path.splitext(os.path.basename(p))"
      ],
      "execution_count": 6,
      "outputs": [
        {
          "output_type": "execute_result",
          "data": {
            "text/plain": [
              "('foo', '.txt')"
            ]
          },
          "metadata": {
            "tags": []
          },
          "execution_count": 6
        }
      ]
    },
    {
      "cell_type": "markdown",
      "metadata": {
        "id": "OX4u2Xwgp8Cg"
      },
      "source": [
        "Section 31.3: Get the parent directory"
      ]
    },
    {
      "cell_type": "code",
      "metadata": {
        "id": "AiWGF13Np9OP"
      },
      "source": [
        "os.path.abspath(os.path.join(PATH_TO_GET_THE_PARENT, os.pardir))"
      ],
      "execution_count": null,
      "outputs": []
    },
    {
      "cell_type": "markdown",
      "metadata": {
        "id": "mZdWyEqEqLoB"
      },
      "source": [
        "Section 31.4: If the given path exists"
      ]
    },
    {
      "cell_type": "code",
      "metadata": {
        "colab": {
          "base_uri": "https://localhost:8080/"
        },
        "id": "dHZZBdELqM5l",
        "outputId": "5b13bd4c-2545-46ab-a3e7-eccc1e6dab79"
      },
      "source": [
        "#to check if the given path exists\n",
        "path = '/home/john/temp'\n",
        "os.path.exists(path)\n",
        "#this returns false if path doesn't exist or if the path is a broken symbolic link"
      ],
      "execution_count": 8,
      "outputs": [
        {
          "output_type": "execute_result",
          "data": {
            "text/plain": [
              "False"
            ]
          },
          "metadata": {
            "tags": []
          },
          "execution_count": 8
        }
      ]
    },
    {
      "cell_type": "markdown",
      "metadata": {
        "id": "J4d55XcAqxfc"
      },
      "source": [
        "Section 31.5: check if the given path is a directory, file,\n",
        "symbolic link, mount point etc"
      ]
    },
    {
      "cell_type": "code",
      "metadata": {
        "colab": {
          "base_uri": "https://localhost:8080/"
        },
        "id": "8__HOiCBqyLa",
        "outputId": "b27df5fe-c2a3-4218-bb1c-24bc4076bdef"
      },
      "source": [
        "#to check if the given path is a directory\n",
        "dirname = '/home/john/python'\n",
        "os.path.isdir(dirname)"
      ],
      "execution_count": 9,
      "outputs": [
        {
          "output_type": "execute_result",
          "data": {
            "text/plain": [
              "False"
            ]
          },
          "metadata": {
            "tags": []
          },
          "execution_count": 9
        }
      ]
    },
    {
      "cell_type": "code",
      "metadata": {
        "colab": {
          "base_uri": "https://localhost:8080/"
        },
        "id": "WfLFnbRWq78x",
        "outputId": "1ab3b02a-ddba-4ae8-8371-9c1c48f850ec"
      },
      "source": [
        "#to check if the given path is a file\n",
        "filename = dirname + 'main.py'\n",
        "os.path.isfile(filename)"
      ],
      "execution_count": 10,
      "outputs": [
        {
          "output_type": "execute_result",
          "data": {
            "text/plain": [
              "False"
            ]
          },
          "metadata": {
            "tags": []
          },
          "execution_count": 10
        }
      ]
    },
    {
      "cell_type": "code",
      "metadata": {
        "colab": {
          "base_uri": "https://localhost:8080/"
        },
        "id": "TYd-yKNxrGzH",
        "outputId": "ccec9c9f-050e-4dfd-80dd-5f1dbb485375"
      },
      "source": [
        "#to check if the given path is symbolic link\n",
        "symlink = dirname + 'some_sym_link'\n",
        "os.path.islink(symlink)"
      ],
      "execution_count": 11,
      "outputs": [
        {
          "output_type": "execute_result",
          "data": {
            "text/plain": [
              "False"
            ]
          },
          "metadata": {
            "tags": []
          },
          "execution_count": 11
        }
      ]
    }
  ]
}