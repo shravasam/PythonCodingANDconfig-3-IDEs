{
  "nbformat": 4,
  "nbformat_minor": 0,
  "metadata": {
    "colab": {
      "name": "list.ipynb",
      "provenance": [],
      "authorship_tag": "ABX9TyMGSwGwwS20tyNaRyvqE9t0",
      "include_colab_link": true
    },
    "kernelspec": {
      "name": "python3",
      "display_name": "Python 3"
    }
  },
  "cells": [
    {
      "cell_type": "markdown",
      "metadata": {
        "id": "view-in-github",
        "colab_type": "text"
      },
      "source": [
        "<a href=\"https://colab.research.google.com/github/shravasam/PythonCodingANDconfig-3-IDEs/blob/master/list.ipynb\" target=\"_parent\"><img src=\"https://colab.research.google.com/assets/colab-badge.svg\" alt=\"Open In Colab\"/></a>"
      ]
    },
    {
      "cell_type": "markdown",
      "metadata": {
        "id": "UNnrKAcG_VLD"
      },
      "source": [
        "#1.Integers"
      ]
    },
    {
      "cell_type": "code",
      "metadata": {
        "colab": {
          "base_uri": "https://localhost:8080/"
        },
        "id": "EcdAFJRO_Vs9",
        "outputId": "7d075f6f-8293-4cb0-9399-e060a4919c35"
      },
      "source": [
        "a, b = 3, 4\n",
        "x,y,z,e,r,t,y = 1,2,3,4,5,6,7\n",
        "print(a,b)\n",
        "print(x,y,z,e,r,t,y)\n"
      ],
      "execution_count": 1,
      "outputs": [
        {
          "output_type": "stream",
          "text": [
            "3 4\n",
            "1 7 3 4 5 6 7\n"
          ],
          "name": "stdout"
        }
      ]
    },
    {
      "cell_type": "markdown",
      "metadata": {
        "id": "P6RjFHDNAELX"
      },
      "source": [
        ""
      ]
    },
    {
      "cell_type": "markdown",
      "metadata": {
        "id": "TFKsWiRcAERg"
      },
      "source": [
        "#2. calling integer and floating variables"
      ]
    },
    {
      "cell_type": "code",
      "metadata": {
        "id": "BiNv4AjrAO6Y"
      },
      "source": [
        ""
      ],
      "execution_count": null,
      "outputs": []
    },
    {
      "cell_type": "code",
      "metadata": {
        "id": "CJzUz6gDAO9r"
      },
      "source": [
        "mystring = \"hello\"\n",
        "name =\"vasam\"\n",
        "country = \"france\"\n",
        "myfloat = 10.0\n",
        "myint = 20\n",
        "myfloat1 = 30.00\n",
        "\n",
        "if mystring == \"hello\":\n",
        "    print(\"String: %s\" % mystring)\n",
        "\n",
        "if country == \"france\":\n",
        "    print (\"welcome %s\" %country)\n",
        "\n",
        "if name == \"vasam\":\n",
        "    print(\"my name is %s\"%name)\n",
        "    \n",
        "if isinstance(myfloat, float) and myfloat == 10.0:\n",
        "    print(\"Float: %f\" % myfloat)\n",
        "if isinstance(myint, int) and myint == 20:\n",
        "    print(\"integer is %d\"% myint)\n",
        "if isinstance(myfloat1, float) and myfloat1 == 30.00:\n",
        "    print(\"floating is %f\" %myfloat1)"
      ],
      "execution_count": null,
      "outputs": []
    },
    {
      "cell_type": "markdown",
      "metadata": {
        "id": "IXBBoU7bAWUD"
      },
      "source": [
        ""
      ]
    },
    {
      "cell_type": "markdown",
      "metadata": {
        "id": "nD3hTfWjAWaW"
      },
      "source": [
        "#appending and removing strings"
      ]
    },
    {
      "cell_type": "code",
      "metadata": {
        "id": "16Jba8fmAYjE"
      },
      "source": [
        "names = [\"sravan\", \"vasam\"]\n",
        "names.append(\"kumar\")\n",
        "names.remove(\"vasam\")\n",
        "print (names)"
      ],
      "execution_count": null,
      "outputs": []
    },
    {
      "cell_type": "markdown",
      "metadata": {
        "id": "Ifm0zZmwAjhx"
      },
      "source": [
        ""
      ]
    },
    {
      "cell_type": "markdown",
      "metadata": {
        "id": "jFPlvTeuAjoi"
      },
      "source": [
        "#4.using lists appending String & integer values"
      ]
    },
    {
      "cell_type": "code",
      "metadata": {
        "id": "H-bRQXtvAnFF"
      },
      "source": [
        "rollno =[]\n",
        "empnames = []\n",
        "countrys = []\n",
        "\n",
        "planeInfo = [\"A350\",\"A380\",\"M400\"]\n",
        "\n",
        "\n",
        "rollno.append(1)\n",
        "rollno.append(2)\n",
        "rollno.append(3)\n",
        "rollno.append(4)\n",
        "\n",
        "countrys.append(\"france\")\n",
        "countrys.append(\"india\")\n",
        "countrys.append(\"china\")\n",
        "countrys.append(\"ukrain\")\n",
        "\n",
        "empnames.append(\"sravan\")\n",
        "empnames.append(\"vasam\")\n",
        "empnames.append(\"kumar\")\n",
        "\n",
        "Craft = planeInfo[1]\n",
        "\n",
        "print(\"roll number info %s\" %rollno)\n",
        "print(\"emp details%s\"%empnames)\n",
        "print(\"countrys info %s\" %countrys)\n",
        "print(\"its about plane info %s\" % Craft)\n"
      ],
      "execution_count": null,
      "outputs": []
    },
    {
      "cell_type": "markdown",
      "metadata": {
        "id": "CQpdz5lfAoch"
      },
      "source": [
        ""
      ]
    },
    {
      "cell_type": "markdown",
      "metadata": {
        "id": "hFd2tMRZAoiQ"
      },
      "source": [
        "#5.printing string multiple times"
      ]
    },
    {
      "cell_type": "code",
      "metadata": {
        "id": "UiWoNJxtArFJ"
      },
      "source": [
        "lotsofhellos = \"hello\" * 10\n",
        "print(lotsofhellos)\n",
        "\n",
        "myname = \"VASAM \" * 200 \n",
        "place = \"Toulouse \\n\" * 100\n",
        "print(myname+place)\n",
        "\n",
        "#6.multiplication, arrays, appending\n",
        "numbers = ([1,2,3]*33)\n",
        "print(numbers)\n",
        "num = ([12,34,33,55] * 54)\n",
        "print(num)\n",
        "\n",
        "rollNums = ([343434,343434] * 88)\n",
        "print(rollNums)\n",
        "\n",
        "TRS = []\n",
        "\n",
        "TRS.append(\"LINKED MODIFICATION\")\n",
        "print(TRS*4)\n",
        "\n",
        "TRS.append(\"MIXIBILITY\")\n",
        "print(TRS*5)"
      ],
      "execution_count": null,
      "outputs": []
    }
  ]
}